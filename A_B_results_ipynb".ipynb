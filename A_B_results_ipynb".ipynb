{
  "cells": [
    {
      "cell_type": "markdown",
      "metadata": {
        "id": "view-in-github",
        "colab_type": "text"
      },
      "source": [
        "<a href=\"https://colab.research.google.com/github/t-a-m-a-r-a/t-a-m-a-r-a/blob/main/A_B_results_ipynb%22.ipynb\" target=\"_parent\"><img src=\"https://colab.research.google.com/assets/colab-badge.svg\" alt=\"Open In Colab\"/></a>"
      ]
    },
    {
      "cell_type": "code",
      "source": [
        "from google.colab import drive\n",
        "drive.mount('/content/drive')"
      ],
      "metadata": {
        "colab": {
          "base_uri": "https://localhost:8080/"
        },
        "id": "jNjyAQQ3jsDi",
        "outputId": "fd528524-21e5-4060-d28e-83bc2031a4cb"
      },
      "id": "jNjyAQQ3jsDi",
      "execution_count": 84,
      "outputs": [
        {
          "output_type": "stream",
          "name": "stdout",
          "text": [
            "Drive already mounted at /content/drive; to attempt to forcibly remount, call drive.mount(\"/content/drive\", force_remount=True).\n"
          ]
        }
      ]
    },
    {
      "cell_type": "markdown",
      "id": "0407e1b7",
      "metadata": {
        "id": "0407e1b7"
      },
      "source": [
        "# Анализ результатов A/B–тестирования гипотезы о введении новой механики оплаты на сайте\n",
        "\n",
        "## Задача\n",
        "\n",
        "Выяснить, стоит ли запускать новую механику оплаты на всех пользователей.\n",
        "Цель введения новой механики оплаты услуг на сайте - увеличить количество совершаемых пользователями покупок, а также доход с покупок.\n",
        "\n",
        "## Метрики и статистические критерии:\n",
        "\n",
        "Для проверки гипотез о влиянии новой оплаты на поведение пользователей выбраны следующие метрики и критерии для них:\n",
        "* Конверсия из посещения платформы в покупку CR - критерий хи-квадрат    \n",
        "*Средний доход на платящего пользователя ARPPU - бутстрап\n",
        "*Cредний доход с активного пользователя ARPAU - бутстрап\n",
        "\n",
        "### Входные данные\n",
        "    groups.csv - файл с информацией о принадлежности пользователя к контрольной или экспериментальной группе (А – контроль, B – целевая группа)\n",
        "    groups_add.csv - дополнительный файл с пользователями, который вам прислали спустя 2 дня после передачи данных\n",
        "    active_studs.csv - файл с информацией о пользователях, которые зашли на платформу в дни проведения эксперимента.\n",
        "    checks.csv - файл с информацией об оплатах пользователей в дни проведения эксперимента."
      ]
    },
    {
      "cell_type": "markdown",
      "id": "af522509",
      "metadata": {
        "id": "af522509"
      },
      "source": [
        "### Проверка и предобработка данных"
      ]
    },
    {
      "cell_type": "code",
      "execution_count": 85,
      "id": "b7f81934",
      "metadata": {
        "id": "b7f81934"
      },
      "outputs": [],
      "source": [
        "import pandas as pd\n",
        "import matplotlib.pyplot as plt\n",
        "# import pandahouse as ph\n",
        "import numpy as np\n",
        "import seaborn as sns\n",
        "import scipy. stats"
      ]
    },
    {
      "cell_type": "code",
      "execution_count": 86,
      "id": "181e9bfe",
      "metadata": {
        "id": "181e9bfe"
      },
      "outputs": [],
      "source": [
        "groups = pd.read_csv \\\n",
        "    ('/content/drive/MyDrive/pet_project_a_b_test/groups.csv', sep=';')"
      ]
    },
    {
      "cell_type": "code",
      "execution_count": 87,
      "id": "25099359",
      "metadata": {
        "colab": {
          "base_uri": "https://localhost:8080/",
          "height": 112
        },
        "id": "25099359",
        "outputId": "f8b352fd-5859-48e5-e1e1-d2c89d1a74be"
      },
      "outputs": [
        {
          "output_type": "execute_result",
          "data": {
            "text/plain": [
              "     id grp\n",
              "0  1489   B\n",
              "1  1627   A"
            ],
            "text/html": [
              "\n",
              "  <div id=\"df-47331eed-390e-41c8-b32b-d89ef212dff3\" class=\"colab-df-container\">\n",
              "    <div>\n",
              "<style scoped>\n",
              "    .dataframe tbody tr th:only-of-type {\n",
              "        vertical-align: middle;\n",
              "    }\n",
              "\n",
              "    .dataframe tbody tr th {\n",
              "        vertical-align: top;\n",
              "    }\n",
              "\n",
              "    .dataframe thead th {\n",
              "        text-align: right;\n",
              "    }\n",
              "</style>\n",
              "<table border=\"1\" class=\"dataframe\">\n",
              "  <thead>\n",
              "    <tr style=\"text-align: right;\">\n",
              "      <th></th>\n",
              "      <th>id</th>\n",
              "      <th>grp</th>\n",
              "    </tr>\n",
              "  </thead>\n",
              "  <tbody>\n",
              "    <tr>\n",
              "      <th>0</th>\n",
              "      <td>1489</td>\n",
              "      <td>B</td>\n",
              "    </tr>\n",
              "    <tr>\n",
              "      <th>1</th>\n",
              "      <td>1627</td>\n",
              "      <td>A</td>\n",
              "    </tr>\n",
              "  </tbody>\n",
              "</table>\n",
              "</div>\n",
              "    <div class=\"colab-df-buttons\">\n",
              "\n",
              "  <div class=\"colab-df-container\">\n",
              "    <button class=\"colab-df-convert\" onclick=\"convertToInteractive('df-47331eed-390e-41c8-b32b-d89ef212dff3')\"\n",
              "            title=\"Convert this dataframe to an interactive table.\"\n",
              "            style=\"display:none;\">\n",
              "\n",
              "  <svg xmlns=\"http://www.w3.org/2000/svg\" height=\"24px\" viewBox=\"0 -960 960 960\">\n",
              "    <path d=\"M120-120v-720h720v720H120Zm60-500h600v-160H180v160Zm220 220h160v-160H400v160Zm0 220h160v-160H400v160ZM180-400h160v-160H180v160Zm440 0h160v-160H620v160ZM180-180h160v-160H180v160Zm440 0h160v-160H620v160Z\"/>\n",
              "  </svg>\n",
              "    </button>\n",
              "\n",
              "  <style>\n",
              "    .colab-df-container {\n",
              "      display:flex;\n",
              "      gap: 12px;\n",
              "    }\n",
              "\n",
              "    .colab-df-convert {\n",
              "      background-color: #E8F0FE;\n",
              "      border: none;\n",
              "      border-radius: 50%;\n",
              "      cursor: pointer;\n",
              "      display: none;\n",
              "      fill: #1967D2;\n",
              "      height: 32px;\n",
              "      padding: 0 0 0 0;\n",
              "      width: 32px;\n",
              "    }\n",
              "\n",
              "    .colab-df-convert:hover {\n",
              "      background-color: #E2EBFA;\n",
              "      box-shadow: 0px 1px 2px rgba(60, 64, 67, 0.3), 0px 1px 3px 1px rgba(60, 64, 67, 0.15);\n",
              "      fill: #174EA6;\n",
              "    }\n",
              "\n",
              "    .colab-df-buttons div {\n",
              "      margin-bottom: 4px;\n",
              "    }\n",
              "\n",
              "    [theme=dark] .colab-df-convert {\n",
              "      background-color: #3B4455;\n",
              "      fill: #D2E3FC;\n",
              "    }\n",
              "\n",
              "    [theme=dark] .colab-df-convert:hover {\n",
              "      background-color: #434B5C;\n",
              "      box-shadow: 0px 1px 3px 1px rgba(0, 0, 0, 0.15);\n",
              "      filter: drop-shadow(0px 1px 2px rgba(0, 0, 0, 0.3));\n",
              "      fill: #FFFFFF;\n",
              "    }\n",
              "  </style>\n",
              "\n",
              "    <script>\n",
              "      const buttonEl =\n",
              "        document.querySelector('#df-47331eed-390e-41c8-b32b-d89ef212dff3 button.colab-df-convert');\n",
              "      buttonEl.style.display =\n",
              "        google.colab.kernel.accessAllowed ? 'block' : 'none';\n",
              "\n",
              "      async function convertToInteractive(key) {\n",
              "        const element = document.querySelector('#df-47331eed-390e-41c8-b32b-d89ef212dff3');\n",
              "        const dataTable =\n",
              "          await google.colab.kernel.invokeFunction('convertToInteractive',\n",
              "                                                    [key], {});\n",
              "        if (!dataTable) return;\n",
              "\n",
              "        const docLinkHtml = 'Like what you see? Visit the ' +\n",
              "          '<a target=\"_blank\" href=https://colab.research.google.com/notebooks/data_table.ipynb>data table notebook</a>'\n",
              "          + ' to learn more about interactive tables.';\n",
              "        element.innerHTML = '';\n",
              "        dataTable['output_type'] = 'display_data';\n",
              "        await google.colab.output.renderOutput(dataTable, element);\n",
              "        const docLink = document.createElement('div');\n",
              "        docLink.innerHTML = docLinkHtml;\n",
              "        element.appendChild(docLink);\n",
              "      }\n",
              "    </script>\n",
              "  </div>\n",
              "\n",
              "\n",
              "<div id=\"df-c6a8802c-9b77-48fb-9d8b-5fd4a064ec33\">\n",
              "  <button class=\"colab-df-quickchart\" onclick=\"quickchart('df-c6a8802c-9b77-48fb-9d8b-5fd4a064ec33')\"\n",
              "            title=\"Suggest charts\"\n",
              "            style=\"display:none;\">\n",
              "\n",
              "<svg xmlns=\"http://www.w3.org/2000/svg\" height=\"24px\"viewBox=\"0 0 24 24\"\n",
              "     width=\"24px\">\n",
              "    <g>\n",
              "        <path d=\"M19 3H5c-1.1 0-2 .9-2 2v14c0 1.1.9 2 2 2h14c1.1 0 2-.9 2-2V5c0-1.1-.9-2-2-2zM9 17H7v-7h2v7zm4 0h-2V7h2v10zm4 0h-2v-4h2v4z\"/>\n",
              "    </g>\n",
              "</svg>\n",
              "  </button>\n",
              "\n",
              "<style>\n",
              "  .colab-df-quickchart {\n",
              "      --bg-color: #E8F0FE;\n",
              "      --fill-color: #1967D2;\n",
              "      --hover-bg-color: #E2EBFA;\n",
              "      --hover-fill-color: #174EA6;\n",
              "      --disabled-fill-color: #AAA;\n",
              "      --disabled-bg-color: #DDD;\n",
              "  }\n",
              "\n",
              "  [theme=dark] .colab-df-quickchart {\n",
              "      --bg-color: #3B4455;\n",
              "      --fill-color: #D2E3FC;\n",
              "      --hover-bg-color: #434B5C;\n",
              "      --hover-fill-color: #FFFFFF;\n",
              "      --disabled-bg-color: #3B4455;\n",
              "      --disabled-fill-color: #666;\n",
              "  }\n",
              "\n",
              "  .colab-df-quickchart {\n",
              "    background-color: var(--bg-color);\n",
              "    border: none;\n",
              "    border-radius: 50%;\n",
              "    cursor: pointer;\n",
              "    display: none;\n",
              "    fill: var(--fill-color);\n",
              "    height: 32px;\n",
              "    padding: 0;\n",
              "    width: 32px;\n",
              "  }\n",
              "\n",
              "  .colab-df-quickchart:hover {\n",
              "    background-color: var(--hover-bg-color);\n",
              "    box-shadow: 0 1px 2px rgba(60, 64, 67, 0.3), 0 1px 3px 1px rgba(60, 64, 67, 0.15);\n",
              "    fill: var(--button-hover-fill-color);\n",
              "  }\n",
              "\n",
              "  .colab-df-quickchart-complete:disabled,\n",
              "  .colab-df-quickchart-complete:disabled:hover {\n",
              "    background-color: var(--disabled-bg-color);\n",
              "    fill: var(--disabled-fill-color);\n",
              "    box-shadow: none;\n",
              "  }\n",
              "\n",
              "  .colab-df-spinner {\n",
              "    border: 2px solid var(--fill-color);\n",
              "    border-color: transparent;\n",
              "    border-bottom-color: var(--fill-color);\n",
              "    animation:\n",
              "      spin 1s steps(1) infinite;\n",
              "  }\n",
              "\n",
              "  @keyframes spin {\n",
              "    0% {\n",
              "      border-color: transparent;\n",
              "      border-bottom-color: var(--fill-color);\n",
              "      border-left-color: var(--fill-color);\n",
              "    }\n",
              "    20% {\n",
              "      border-color: transparent;\n",
              "      border-left-color: var(--fill-color);\n",
              "      border-top-color: var(--fill-color);\n",
              "    }\n",
              "    30% {\n",
              "      border-color: transparent;\n",
              "      border-left-color: var(--fill-color);\n",
              "      border-top-color: var(--fill-color);\n",
              "      border-right-color: var(--fill-color);\n",
              "    }\n",
              "    40% {\n",
              "      border-color: transparent;\n",
              "      border-right-color: var(--fill-color);\n",
              "      border-top-color: var(--fill-color);\n",
              "    }\n",
              "    60% {\n",
              "      border-color: transparent;\n",
              "      border-right-color: var(--fill-color);\n",
              "    }\n",
              "    80% {\n",
              "      border-color: transparent;\n",
              "      border-right-color: var(--fill-color);\n",
              "      border-bottom-color: var(--fill-color);\n",
              "    }\n",
              "    90% {\n",
              "      border-color: transparent;\n",
              "      border-bottom-color: var(--fill-color);\n",
              "    }\n",
              "  }\n",
              "</style>\n",
              "\n",
              "  <script>\n",
              "    async function quickchart(key) {\n",
              "      const quickchartButtonEl =\n",
              "        document.querySelector('#' + key + ' button');\n",
              "      quickchartButtonEl.disabled = true;  // To prevent multiple clicks.\n",
              "      quickchartButtonEl.classList.add('colab-df-spinner');\n",
              "      try {\n",
              "        const charts = await google.colab.kernel.invokeFunction(\n",
              "            'suggestCharts', [key], {});\n",
              "      } catch (error) {\n",
              "        console.error('Error during call to suggestCharts:', error);\n",
              "      }\n",
              "      quickchartButtonEl.classList.remove('colab-df-spinner');\n",
              "      quickchartButtonEl.classList.add('colab-df-quickchart-complete');\n",
              "    }\n",
              "    (() => {\n",
              "      let quickchartButtonEl =\n",
              "        document.querySelector('#df-c6a8802c-9b77-48fb-9d8b-5fd4a064ec33 button');\n",
              "      quickchartButtonEl.style.display =\n",
              "        google.colab.kernel.accessAllowed ? 'block' : 'none';\n",
              "    })();\n",
              "  </script>\n",
              "</div>\n",
              "    </div>\n",
              "  </div>\n"
            ],
            "application/vnd.google.colaboratory.intrinsic+json": {
              "type": "dataframe",
              "variable_name": "groups",
              "summary": "{\n  \"name\": \"groups\",\n  \"rows\": 74484,\n  \"fields\": [\n    {\n      \"column\": \"id\",\n      \"properties\": {\n        \"dtype\": \"number\",\n        \"std\": 1531422,\n        \"min\": 1489,\n        \"max\": 5694419,\n        \"num_unique_values\": 74484,\n        \"samples\": [\n          2750582,\n          4831979,\n          2742098\n        ],\n        \"semantic_type\": \"\",\n        \"description\": \"\"\n      }\n    },\n    {\n      \"column\": \"grp\",\n      \"properties\": {\n        \"dtype\": \"category\",\n        \"num_unique_values\": 2,\n        \"samples\": [\n          \"A\",\n          \"B\"\n        ],\n        \"semantic_type\": \"\",\n        \"description\": \"\"\n      }\n    }\n  ]\n}"
            }
          },
          "metadata": {},
          "execution_count": 87
        }
      ],
      "source": [
        "groups.head(2)  # просмотр данных"
      ]
    },
    {
      "cell_type": "code",
      "execution_count": 88,
      "id": "4101a700",
      "metadata": {
        "colab": {
          "base_uri": "https://localhost:8080/"
        },
        "id": "4101a700",
        "outputId": "49ba1ce7-5042-4da3-cc42-f94b881cd8de"
      },
      "outputs": [
        {
          "output_type": "stream",
          "name": "stdout",
          "text": [
            "<class 'pandas.core.frame.DataFrame'>\n",
            "RangeIndex: 74484 entries, 0 to 74483\n",
            "Data columns (total 2 columns):\n",
            " #   Column  Non-Null Count  Dtype \n",
            "---  ------  --------------  ----- \n",
            " 0   id      74484 non-null  int64 \n",
            " 1   grp     74484 non-null  object\n",
            "dtypes: int64(1), object(1)\n",
            "memory usage: 1.1+ MB\n"
          ]
        }
      ],
      "source": [
        "groups.info()  # проверка пропусков и типов данных"
      ]
    },
    {
      "cell_type": "code",
      "execution_count": 89,
      "id": "a9b07999",
      "metadata": {
        "colab": {
          "base_uri": "https://localhost:8080/"
        },
        "id": "a9b07999",
        "outputId": "37274444-b608-4abc-8d82-0355b1a0a0c8"
      },
      "outputs": [
        {
          "output_type": "execute_result",
          "data": {
            "text/plain": [
              "id     74484\n",
              "grp        2\n",
              "dtype: int64"
            ]
          },
          "metadata": {},
          "execution_count": 89
        }
      ],
      "source": [
        "groups.nunique()  # проверка уникальных значений"
      ]
    },
    {
      "cell_type": "markdown",
      "id": "317d6c71",
      "metadata": {
        "id": "317d6c71"
      },
      "source": [
        "Таблица groups не содержит пропуски, все id пользователей уникальны и имеют формат целого числа, каждый пользователь однозначно отнесен к одной из групп (А или В)."
      ]
    },
    {
      "cell_type": "code",
      "execution_count": 90,
      "id": "63445ce1",
      "metadata": {
        "id": "63445ce1"
      },
      "outputs": [],
      "source": [
        "groups_add = pd.read_csv('/content/drive/MyDrive/pet_project_a_b_test/group_add.csv')"
      ]
    },
    {
      "cell_type": "code",
      "execution_count": 91,
      "id": "e4d08bac",
      "metadata": {
        "colab": {
          "base_uri": "https://localhost:8080/",
          "height": 112
        },
        "id": "e4d08bac",
        "outputId": "a617c2ec-0d99-439f-b801-eb33ffb08e78"
      },
      "outputs": [
        {
          "output_type": "execute_result",
          "data": {
            "text/plain": [
              "        id grp\n",
              "0  5694584   B\n",
              "1  5694830   B"
            ],
            "text/html": [
              "\n",
              "  <div id=\"df-01e97e3f-028e-4b97-b3a1-fb27b9e30d74\" class=\"colab-df-container\">\n",
              "    <div>\n",
              "<style scoped>\n",
              "    .dataframe tbody tr th:only-of-type {\n",
              "        vertical-align: middle;\n",
              "    }\n",
              "\n",
              "    .dataframe tbody tr th {\n",
              "        vertical-align: top;\n",
              "    }\n",
              "\n",
              "    .dataframe thead th {\n",
              "        text-align: right;\n",
              "    }\n",
              "</style>\n",
              "<table border=\"1\" class=\"dataframe\">\n",
              "  <thead>\n",
              "    <tr style=\"text-align: right;\">\n",
              "      <th></th>\n",
              "      <th>id</th>\n",
              "      <th>grp</th>\n",
              "    </tr>\n",
              "  </thead>\n",
              "  <tbody>\n",
              "    <tr>\n",
              "      <th>0</th>\n",
              "      <td>5694584</td>\n",
              "      <td>B</td>\n",
              "    </tr>\n",
              "    <tr>\n",
              "      <th>1</th>\n",
              "      <td>5694830</td>\n",
              "      <td>B</td>\n",
              "    </tr>\n",
              "  </tbody>\n",
              "</table>\n",
              "</div>\n",
              "    <div class=\"colab-df-buttons\">\n",
              "\n",
              "  <div class=\"colab-df-container\">\n",
              "    <button class=\"colab-df-convert\" onclick=\"convertToInteractive('df-01e97e3f-028e-4b97-b3a1-fb27b9e30d74')\"\n",
              "            title=\"Convert this dataframe to an interactive table.\"\n",
              "            style=\"display:none;\">\n",
              "\n",
              "  <svg xmlns=\"http://www.w3.org/2000/svg\" height=\"24px\" viewBox=\"0 -960 960 960\">\n",
              "    <path d=\"M120-120v-720h720v720H120Zm60-500h600v-160H180v160Zm220 220h160v-160H400v160Zm0 220h160v-160H400v160ZM180-400h160v-160H180v160Zm440 0h160v-160H620v160ZM180-180h160v-160H180v160Zm440 0h160v-160H620v160Z\"/>\n",
              "  </svg>\n",
              "    </button>\n",
              "\n",
              "  <style>\n",
              "    .colab-df-container {\n",
              "      display:flex;\n",
              "      gap: 12px;\n",
              "    }\n",
              "\n",
              "    .colab-df-convert {\n",
              "      background-color: #E8F0FE;\n",
              "      border: none;\n",
              "      border-radius: 50%;\n",
              "      cursor: pointer;\n",
              "      display: none;\n",
              "      fill: #1967D2;\n",
              "      height: 32px;\n",
              "      padding: 0 0 0 0;\n",
              "      width: 32px;\n",
              "    }\n",
              "\n",
              "    .colab-df-convert:hover {\n",
              "      background-color: #E2EBFA;\n",
              "      box-shadow: 0px 1px 2px rgba(60, 64, 67, 0.3), 0px 1px 3px 1px rgba(60, 64, 67, 0.15);\n",
              "      fill: #174EA6;\n",
              "    }\n",
              "\n",
              "    .colab-df-buttons div {\n",
              "      margin-bottom: 4px;\n",
              "    }\n",
              "\n",
              "    [theme=dark] .colab-df-convert {\n",
              "      background-color: #3B4455;\n",
              "      fill: #D2E3FC;\n",
              "    }\n",
              "\n",
              "    [theme=dark] .colab-df-convert:hover {\n",
              "      background-color: #434B5C;\n",
              "      box-shadow: 0px 1px 3px 1px rgba(0, 0, 0, 0.15);\n",
              "      filter: drop-shadow(0px 1px 2px rgba(0, 0, 0, 0.3));\n",
              "      fill: #FFFFFF;\n",
              "    }\n",
              "  </style>\n",
              "\n",
              "    <script>\n",
              "      const buttonEl =\n",
              "        document.querySelector('#df-01e97e3f-028e-4b97-b3a1-fb27b9e30d74 button.colab-df-convert');\n",
              "      buttonEl.style.display =\n",
              "        google.colab.kernel.accessAllowed ? 'block' : 'none';\n",
              "\n",
              "      async function convertToInteractive(key) {\n",
              "        const element = document.querySelector('#df-01e97e3f-028e-4b97-b3a1-fb27b9e30d74');\n",
              "        const dataTable =\n",
              "          await google.colab.kernel.invokeFunction('convertToInteractive',\n",
              "                                                    [key], {});\n",
              "        if (!dataTable) return;\n",
              "\n",
              "        const docLinkHtml = 'Like what you see? Visit the ' +\n",
              "          '<a target=\"_blank\" href=https://colab.research.google.com/notebooks/data_table.ipynb>data table notebook</a>'\n",
              "          + ' to learn more about interactive tables.';\n",
              "        element.innerHTML = '';\n",
              "        dataTable['output_type'] = 'display_data';\n",
              "        await google.colab.output.renderOutput(dataTable, element);\n",
              "        const docLink = document.createElement('div');\n",
              "        docLink.innerHTML = docLinkHtml;\n",
              "        element.appendChild(docLink);\n",
              "      }\n",
              "    </script>\n",
              "  </div>\n",
              "\n",
              "\n",
              "<div id=\"df-91926fc1-469d-4295-9a06-b56914764a9f\">\n",
              "  <button class=\"colab-df-quickchart\" onclick=\"quickchart('df-91926fc1-469d-4295-9a06-b56914764a9f')\"\n",
              "            title=\"Suggest charts\"\n",
              "            style=\"display:none;\">\n",
              "\n",
              "<svg xmlns=\"http://www.w3.org/2000/svg\" height=\"24px\"viewBox=\"0 0 24 24\"\n",
              "     width=\"24px\">\n",
              "    <g>\n",
              "        <path d=\"M19 3H5c-1.1 0-2 .9-2 2v14c0 1.1.9 2 2 2h14c1.1 0 2-.9 2-2V5c0-1.1-.9-2-2-2zM9 17H7v-7h2v7zm4 0h-2V7h2v10zm4 0h-2v-4h2v4z\"/>\n",
              "    </g>\n",
              "</svg>\n",
              "  </button>\n",
              "\n",
              "<style>\n",
              "  .colab-df-quickchart {\n",
              "      --bg-color: #E8F0FE;\n",
              "      --fill-color: #1967D2;\n",
              "      --hover-bg-color: #E2EBFA;\n",
              "      --hover-fill-color: #174EA6;\n",
              "      --disabled-fill-color: #AAA;\n",
              "      --disabled-bg-color: #DDD;\n",
              "  }\n",
              "\n",
              "  [theme=dark] .colab-df-quickchart {\n",
              "      --bg-color: #3B4455;\n",
              "      --fill-color: #D2E3FC;\n",
              "      --hover-bg-color: #434B5C;\n",
              "      --hover-fill-color: #FFFFFF;\n",
              "      --disabled-bg-color: #3B4455;\n",
              "      --disabled-fill-color: #666;\n",
              "  }\n",
              "\n",
              "  .colab-df-quickchart {\n",
              "    background-color: var(--bg-color);\n",
              "    border: none;\n",
              "    border-radius: 50%;\n",
              "    cursor: pointer;\n",
              "    display: none;\n",
              "    fill: var(--fill-color);\n",
              "    height: 32px;\n",
              "    padding: 0;\n",
              "    width: 32px;\n",
              "  }\n",
              "\n",
              "  .colab-df-quickchart:hover {\n",
              "    background-color: var(--hover-bg-color);\n",
              "    box-shadow: 0 1px 2px rgba(60, 64, 67, 0.3), 0 1px 3px 1px rgba(60, 64, 67, 0.15);\n",
              "    fill: var(--button-hover-fill-color);\n",
              "  }\n",
              "\n",
              "  .colab-df-quickchart-complete:disabled,\n",
              "  .colab-df-quickchart-complete:disabled:hover {\n",
              "    background-color: var(--disabled-bg-color);\n",
              "    fill: var(--disabled-fill-color);\n",
              "    box-shadow: none;\n",
              "  }\n",
              "\n",
              "  .colab-df-spinner {\n",
              "    border: 2px solid var(--fill-color);\n",
              "    border-color: transparent;\n",
              "    border-bottom-color: var(--fill-color);\n",
              "    animation:\n",
              "      spin 1s steps(1) infinite;\n",
              "  }\n",
              "\n",
              "  @keyframes spin {\n",
              "    0% {\n",
              "      border-color: transparent;\n",
              "      border-bottom-color: var(--fill-color);\n",
              "      border-left-color: var(--fill-color);\n",
              "    }\n",
              "    20% {\n",
              "      border-color: transparent;\n",
              "      border-left-color: var(--fill-color);\n",
              "      border-top-color: var(--fill-color);\n",
              "    }\n",
              "    30% {\n",
              "      border-color: transparent;\n",
              "      border-left-color: var(--fill-color);\n",
              "      border-top-color: var(--fill-color);\n",
              "      border-right-color: var(--fill-color);\n",
              "    }\n",
              "    40% {\n",
              "      border-color: transparent;\n",
              "      border-right-color: var(--fill-color);\n",
              "      border-top-color: var(--fill-color);\n",
              "    }\n",
              "    60% {\n",
              "      border-color: transparent;\n",
              "      border-right-color: var(--fill-color);\n",
              "    }\n",
              "    80% {\n",
              "      border-color: transparent;\n",
              "      border-right-color: var(--fill-color);\n",
              "      border-bottom-color: var(--fill-color);\n",
              "    }\n",
              "    90% {\n",
              "      border-color: transparent;\n",
              "      border-bottom-color: var(--fill-color);\n",
              "    }\n",
              "  }\n",
              "</style>\n",
              "\n",
              "  <script>\n",
              "    async function quickchart(key) {\n",
              "      const quickchartButtonEl =\n",
              "        document.querySelector('#' + key + ' button');\n",
              "      quickchartButtonEl.disabled = true;  // To prevent multiple clicks.\n",
              "      quickchartButtonEl.classList.add('colab-df-spinner');\n",
              "      try {\n",
              "        const charts = await google.colab.kernel.invokeFunction(\n",
              "            'suggestCharts', [key], {});\n",
              "      } catch (error) {\n",
              "        console.error('Error during call to suggestCharts:', error);\n",
              "      }\n",
              "      quickchartButtonEl.classList.remove('colab-df-spinner');\n",
              "      quickchartButtonEl.classList.add('colab-df-quickchart-complete');\n",
              "    }\n",
              "    (() => {\n",
              "      let quickchartButtonEl =\n",
              "        document.querySelector('#df-91926fc1-469d-4295-9a06-b56914764a9f button');\n",
              "      quickchartButtonEl.style.display =\n",
              "        google.colab.kernel.accessAllowed ? 'block' : 'none';\n",
              "    })();\n",
              "  </script>\n",
              "</div>\n",
              "    </div>\n",
              "  </div>\n"
            ],
            "application/vnd.google.colaboratory.intrinsic+json": {
              "type": "dataframe",
              "variable_name": "groups_add",
              "summary": "{\n  \"name\": \"groups_add\",\n  \"rows\": 92,\n  \"fields\": [\n    {\n      \"column\": \"id\",\n      \"properties\": {\n        \"dtype\": \"number\",\n        \"std\": 61416046,\n        \"min\": 5694584,\n        \"max\": 201067659,\n        \"num_unique_values\": 92,\n        \"samples\": [\n          5723648,\n          5711045,\n          5740903\n        ],\n        \"semantic_type\": \"\",\n        \"description\": \"\"\n      }\n    },\n    {\n      \"column\": \"grp\",\n      \"properties\": {\n        \"dtype\": \"category\",\n        \"num_unique_values\": 2,\n        \"samples\": [\n          \"A\",\n          \"B\"\n        ],\n        \"semantic_type\": \"\",\n        \"description\": \"\"\n      }\n    }\n  ]\n}"
            }
          },
          "metadata": {},
          "execution_count": 91
        }
      ],
      "source": [
        "groups_add.head(2)  # просмотр данных"
      ]
    },
    {
      "cell_type": "code",
      "execution_count": 92,
      "id": "eb2d1abd",
      "metadata": {
        "colab": {
          "base_uri": "https://localhost:8080/"
        },
        "id": "eb2d1abd",
        "outputId": "20a7bbd0-24c6-4f63-f846-5c6c373c3697"
      },
      "outputs": [
        {
          "output_type": "stream",
          "name": "stdout",
          "text": [
            "<class 'pandas.core.frame.DataFrame'>\n",
            "RangeIndex: 92 entries, 0 to 91\n",
            "Data columns (total 2 columns):\n",
            " #   Column  Non-Null Count  Dtype \n",
            "---  ------  --------------  ----- \n",
            " 0   id      92 non-null     int64 \n",
            " 1   grp     92 non-null     object\n",
            "dtypes: int64(1), object(1)\n",
            "memory usage: 1.6+ KB\n"
          ]
        }
      ],
      "source": [
        "groups_add.info()  # проверка пропусков и типов данных"
      ]
    },
    {
      "cell_type": "code",
      "execution_count": 93,
      "id": "547283d6",
      "metadata": {
        "colab": {
          "base_uri": "https://localhost:8080/"
        },
        "id": "547283d6",
        "outputId": "9fabf9bf-bebe-410e-c70b-1a38748a32b0"
      },
      "outputs": [
        {
          "output_type": "execute_result",
          "data": {
            "text/plain": [
              "id     92\n",
              "grp     2\n",
              "dtype: int64"
            ]
          },
          "metadata": {},
          "execution_count": 93
        }
      ],
      "source": [
        "groups_add.nunique()  # проверка уникальных значений"
      ]
    },
    {
      "cell_type": "markdown",
      "id": "b5d4258a",
      "metadata": {
        "id": "b5d4258a"
      },
      "source": [
        "Таблица groups_add не содержит пропуски, все id пользователей уникальны и имеют формат целого числа, каждый пользователь однозначно отнесен к одной из групп (А или В)."
      ]
    },
    {
      "cell_type": "code",
      "execution_count": 94,
      "id": "ccca3205",
      "metadata": {
        "id": "ccca3205"
      },
      "outputs": [],
      "source": [
        "active_studs = pd.read_csv('/content/drive/MyDrive/pet_project_a_b_test/active_studs.csv')"
      ]
    },
    {
      "cell_type": "code",
      "execution_count": 95,
      "id": "e48da325",
      "metadata": {
        "colab": {
          "base_uri": "https://localhost:8080/",
          "height": 112
        },
        "id": "e48da325",
        "outputId": "bc5a2336-8270-4cdf-9e49-1a95e60f8740"
      },
      "outputs": [
        {
          "output_type": "execute_result",
          "data": {
            "text/plain": [
              "   student_id\n",
              "0      581585\n",
              "1     5723133"
            ],
            "text/html": [
              "\n",
              "  <div id=\"df-07e18a7e-a771-485c-85d3-d8115d123667\" class=\"colab-df-container\">\n",
              "    <div>\n",
              "<style scoped>\n",
              "    .dataframe tbody tr th:only-of-type {\n",
              "        vertical-align: middle;\n",
              "    }\n",
              "\n",
              "    .dataframe tbody tr th {\n",
              "        vertical-align: top;\n",
              "    }\n",
              "\n",
              "    .dataframe thead th {\n",
              "        text-align: right;\n",
              "    }\n",
              "</style>\n",
              "<table border=\"1\" class=\"dataframe\">\n",
              "  <thead>\n",
              "    <tr style=\"text-align: right;\">\n",
              "      <th></th>\n",
              "      <th>student_id</th>\n",
              "    </tr>\n",
              "  </thead>\n",
              "  <tbody>\n",
              "    <tr>\n",
              "      <th>0</th>\n",
              "      <td>581585</td>\n",
              "    </tr>\n",
              "    <tr>\n",
              "      <th>1</th>\n",
              "      <td>5723133</td>\n",
              "    </tr>\n",
              "  </tbody>\n",
              "</table>\n",
              "</div>\n",
              "    <div class=\"colab-df-buttons\">\n",
              "\n",
              "  <div class=\"colab-df-container\">\n",
              "    <button class=\"colab-df-convert\" onclick=\"convertToInteractive('df-07e18a7e-a771-485c-85d3-d8115d123667')\"\n",
              "            title=\"Convert this dataframe to an interactive table.\"\n",
              "            style=\"display:none;\">\n",
              "\n",
              "  <svg xmlns=\"http://www.w3.org/2000/svg\" height=\"24px\" viewBox=\"0 -960 960 960\">\n",
              "    <path d=\"M120-120v-720h720v720H120Zm60-500h600v-160H180v160Zm220 220h160v-160H400v160Zm0 220h160v-160H400v160ZM180-400h160v-160H180v160Zm440 0h160v-160H620v160ZM180-180h160v-160H180v160Zm440 0h160v-160H620v160Z\"/>\n",
              "  </svg>\n",
              "    </button>\n",
              "\n",
              "  <style>\n",
              "    .colab-df-container {\n",
              "      display:flex;\n",
              "      gap: 12px;\n",
              "    }\n",
              "\n",
              "    .colab-df-convert {\n",
              "      background-color: #E8F0FE;\n",
              "      border: none;\n",
              "      border-radius: 50%;\n",
              "      cursor: pointer;\n",
              "      display: none;\n",
              "      fill: #1967D2;\n",
              "      height: 32px;\n",
              "      padding: 0 0 0 0;\n",
              "      width: 32px;\n",
              "    }\n",
              "\n",
              "    .colab-df-convert:hover {\n",
              "      background-color: #E2EBFA;\n",
              "      box-shadow: 0px 1px 2px rgba(60, 64, 67, 0.3), 0px 1px 3px 1px rgba(60, 64, 67, 0.15);\n",
              "      fill: #174EA6;\n",
              "    }\n",
              "\n",
              "    .colab-df-buttons div {\n",
              "      margin-bottom: 4px;\n",
              "    }\n",
              "\n",
              "    [theme=dark] .colab-df-convert {\n",
              "      background-color: #3B4455;\n",
              "      fill: #D2E3FC;\n",
              "    }\n",
              "\n",
              "    [theme=dark] .colab-df-convert:hover {\n",
              "      background-color: #434B5C;\n",
              "      box-shadow: 0px 1px 3px 1px rgba(0, 0, 0, 0.15);\n",
              "      filter: drop-shadow(0px 1px 2px rgba(0, 0, 0, 0.3));\n",
              "      fill: #FFFFFF;\n",
              "    }\n",
              "  </style>\n",
              "\n",
              "    <script>\n",
              "      const buttonEl =\n",
              "        document.querySelector('#df-07e18a7e-a771-485c-85d3-d8115d123667 button.colab-df-convert');\n",
              "      buttonEl.style.display =\n",
              "        google.colab.kernel.accessAllowed ? 'block' : 'none';\n",
              "\n",
              "      async function convertToInteractive(key) {\n",
              "        const element = document.querySelector('#df-07e18a7e-a771-485c-85d3-d8115d123667');\n",
              "        const dataTable =\n",
              "          await google.colab.kernel.invokeFunction('convertToInteractive',\n",
              "                                                    [key], {});\n",
              "        if (!dataTable) return;\n",
              "\n",
              "        const docLinkHtml = 'Like what you see? Visit the ' +\n",
              "          '<a target=\"_blank\" href=https://colab.research.google.com/notebooks/data_table.ipynb>data table notebook</a>'\n",
              "          + ' to learn more about interactive tables.';\n",
              "        element.innerHTML = '';\n",
              "        dataTable['output_type'] = 'display_data';\n",
              "        await google.colab.output.renderOutput(dataTable, element);\n",
              "        const docLink = document.createElement('div');\n",
              "        docLink.innerHTML = docLinkHtml;\n",
              "        element.appendChild(docLink);\n",
              "      }\n",
              "    </script>\n",
              "  </div>\n",
              "\n",
              "\n",
              "<div id=\"df-e683ef72-c966-48e0-a81f-7b7f72888852\">\n",
              "  <button class=\"colab-df-quickchart\" onclick=\"quickchart('df-e683ef72-c966-48e0-a81f-7b7f72888852')\"\n",
              "            title=\"Suggest charts\"\n",
              "            style=\"display:none;\">\n",
              "\n",
              "<svg xmlns=\"http://www.w3.org/2000/svg\" height=\"24px\"viewBox=\"0 0 24 24\"\n",
              "     width=\"24px\">\n",
              "    <g>\n",
              "        <path d=\"M19 3H5c-1.1 0-2 .9-2 2v14c0 1.1.9 2 2 2h14c1.1 0 2-.9 2-2V5c0-1.1-.9-2-2-2zM9 17H7v-7h2v7zm4 0h-2V7h2v10zm4 0h-2v-4h2v4z\"/>\n",
              "    </g>\n",
              "</svg>\n",
              "  </button>\n",
              "\n",
              "<style>\n",
              "  .colab-df-quickchart {\n",
              "      --bg-color: #E8F0FE;\n",
              "      --fill-color: #1967D2;\n",
              "      --hover-bg-color: #E2EBFA;\n",
              "      --hover-fill-color: #174EA6;\n",
              "      --disabled-fill-color: #AAA;\n",
              "      --disabled-bg-color: #DDD;\n",
              "  }\n",
              "\n",
              "  [theme=dark] .colab-df-quickchart {\n",
              "      --bg-color: #3B4455;\n",
              "      --fill-color: #D2E3FC;\n",
              "      --hover-bg-color: #434B5C;\n",
              "      --hover-fill-color: #FFFFFF;\n",
              "      --disabled-bg-color: #3B4455;\n",
              "      --disabled-fill-color: #666;\n",
              "  }\n",
              "\n",
              "  .colab-df-quickchart {\n",
              "    background-color: var(--bg-color);\n",
              "    border: none;\n",
              "    border-radius: 50%;\n",
              "    cursor: pointer;\n",
              "    display: none;\n",
              "    fill: var(--fill-color);\n",
              "    height: 32px;\n",
              "    padding: 0;\n",
              "    width: 32px;\n",
              "  }\n",
              "\n",
              "  .colab-df-quickchart:hover {\n",
              "    background-color: var(--hover-bg-color);\n",
              "    box-shadow: 0 1px 2px rgba(60, 64, 67, 0.3), 0 1px 3px 1px rgba(60, 64, 67, 0.15);\n",
              "    fill: var(--button-hover-fill-color);\n",
              "  }\n",
              "\n",
              "  .colab-df-quickchart-complete:disabled,\n",
              "  .colab-df-quickchart-complete:disabled:hover {\n",
              "    background-color: var(--disabled-bg-color);\n",
              "    fill: var(--disabled-fill-color);\n",
              "    box-shadow: none;\n",
              "  }\n",
              "\n",
              "  .colab-df-spinner {\n",
              "    border: 2px solid var(--fill-color);\n",
              "    border-color: transparent;\n",
              "    border-bottom-color: var(--fill-color);\n",
              "    animation:\n",
              "      spin 1s steps(1) infinite;\n",
              "  }\n",
              "\n",
              "  @keyframes spin {\n",
              "    0% {\n",
              "      border-color: transparent;\n",
              "      border-bottom-color: var(--fill-color);\n",
              "      border-left-color: var(--fill-color);\n",
              "    }\n",
              "    20% {\n",
              "      border-color: transparent;\n",
              "      border-left-color: var(--fill-color);\n",
              "      border-top-color: var(--fill-color);\n",
              "    }\n",
              "    30% {\n",
              "      border-color: transparent;\n",
              "      border-left-color: var(--fill-color);\n",
              "      border-top-color: var(--fill-color);\n",
              "      border-right-color: var(--fill-color);\n",
              "    }\n",
              "    40% {\n",
              "      border-color: transparent;\n",
              "      border-right-color: var(--fill-color);\n",
              "      border-top-color: var(--fill-color);\n",
              "    }\n",
              "    60% {\n",
              "      border-color: transparent;\n",
              "      border-right-color: var(--fill-color);\n",
              "    }\n",
              "    80% {\n",
              "      border-color: transparent;\n",
              "      border-right-color: var(--fill-color);\n",
              "      border-bottom-color: var(--fill-color);\n",
              "    }\n",
              "    90% {\n",
              "      border-color: transparent;\n",
              "      border-bottom-color: var(--fill-color);\n",
              "    }\n",
              "  }\n",
              "</style>\n",
              "\n",
              "  <script>\n",
              "    async function quickchart(key) {\n",
              "      const quickchartButtonEl =\n",
              "        document.querySelector('#' + key + ' button');\n",
              "      quickchartButtonEl.disabled = true;  // To prevent multiple clicks.\n",
              "      quickchartButtonEl.classList.add('colab-df-spinner');\n",
              "      try {\n",
              "        const charts = await google.colab.kernel.invokeFunction(\n",
              "            'suggestCharts', [key], {});\n",
              "      } catch (error) {\n",
              "        console.error('Error during call to suggestCharts:', error);\n",
              "      }\n",
              "      quickchartButtonEl.classList.remove('colab-df-spinner');\n",
              "      quickchartButtonEl.classList.add('colab-df-quickchart-complete');\n",
              "    }\n",
              "    (() => {\n",
              "      let quickchartButtonEl =\n",
              "        document.querySelector('#df-e683ef72-c966-48e0-a81f-7b7f72888852 button');\n",
              "      quickchartButtonEl.style.display =\n",
              "        google.colab.kernel.accessAllowed ? 'block' : 'none';\n",
              "    })();\n",
              "  </script>\n",
              "</div>\n",
              "    </div>\n",
              "  </div>\n"
            ],
            "application/vnd.google.colaboratory.intrinsic+json": {
              "type": "dataframe",
              "variable_name": "active_studs",
              "summary": "{\n  \"name\": \"active_studs\",\n  \"rows\": 8341,\n  \"fields\": [\n    {\n      \"column\": \"student_id\",\n      \"properties\": {\n        \"dtype\": \"number\",\n        \"std\": 1564978,\n        \"min\": 1627,\n        \"max\": 5951797,\n        \"num_unique_values\": 8341,\n        \"samples\": [\n          983778,\n          3279259,\n          4964891\n        ],\n        \"semantic_type\": \"\",\n        \"description\": \"\"\n      }\n    }\n  ]\n}"
            }
          },
          "metadata": {},
          "execution_count": 95
        }
      ],
      "source": [
        "active_studs.head(2)  # просмотр данных"
      ]
    },
    {
      "cell_type": "code",
      "execution_count": 96,
      "id": "fbd1aa0c",
      "metadata": {
        "colab": {
          "base_uri": "https://localhost:8080/"
        },
        "id": "fbd1aa0c",
        "outputId": "55285d20-e577-4dd8-9139-39a68a14581d"
      },
      "outputs": [
        {
          "output_type": "stream",
          "name": "stdout",
          "text": [
            "<class 'pandas.core.frame.DataFrame'>\n",
            "RangeIndex: 8341 entries, 0 to 8340\n",
            "Data columns (total 1 columns):\n",
            " #   Column      Non-Null Count  Dtype\n",
            "---  ------      --------------  -----\n",
            " 0   student_id  8341 non-null   int64\n",
            "dtypes: int64(1)\n",
            "memory usage: 65.3 KB\n"
          ]
        }
      ],
      "source": [
        "active_studs.info()  # проверка пропусков и типов данных"
      ]
    },
    {
      "cell_type": "code",
      "execution_count": 97,
      "id": "ac6e551a",
      "metadata": {
        "colab": {
          "base_uri": "https://localhost:8080/"
        },
        "id": "ac6e551a",
        "outputId": "7c604c01-4cf6-4aa2-acf2-a0d8c5894aa3"
      },
      "outputs": [
        {
          "output_type": "execute_result",
          "data": {
            "text/plain": [
              "student_id    8341\n",
              "dtype: int64"
            ]
          },
          "metadata": {},
          "execution_count": 97
        }
      ],
      "source": [
        "active_studs.nunique()  # проверка уникальных значений"
      ]
    },
    {
      "cell_type": "markdown",
      "id": "fbce52f2",
      "metadata": {
        "id": "fbce52f2"
      },
      "source": [
        "Таблица active_studs не содержит пропуски, все id пользователей уникальны и имеют формат целого числа, но название колонки отличается от названия аналогичной колонки в таблицах groups и groups_add."
      ]
    },
    {
      "cell_type": "code",
      "execution_count": 98,
      "id": "cdbc7901",
      "metadata": {
        "id": "cdbc7901"
      },
      "outputs": [],
      "source": [
        "checks = pd.read_csv('/content/drive/MyDrive/pet_project_a_b_test/checks.csv', sep=';')"
      ]
    },
    {
      "cell_type": "code",
      "execution_count": 99,
      "id": "57e4fec9",
      "metadata": {
        "colab": {
          "base_uri": "https://localhost:8080/",
          "height": 112
        },
        "id": "57e4fec9",
        "outputId": "76b57e9c-2900-4b17-863e-f00ea6873948"
      },
      "outputs": [
        {
          "output_type": "execute_result",
          "data": {
            "text/plain": [
              "   student_id    rev\n",
              "0        1627  990.0\n",
              "1        3185  690.0"
            ],
            "text/html": [
              "\n",
              "  <div id=\"df-0def32d5-fc93-4fcd-ae56-89978c12de43\" class=\"colab-df-container\">\n",
              "    <div>\n",
              "<style scoped>\n",
              "    .dataframe tbody tr th:only-of-type {\n",
              "        vertical-align: middle;\n",
              "    }\n",
              "\n",
              "    .dataframe tbody tr th {\n",
              "        vertical-align: top;\n",
              "    }\n",
              "\n",
              "    .dataframe thead th {\n",
              "        text-align: right;\n",
              "    }\n",
              "</style>\n",
              "<table border=\"1\" class=\"dataframe\">\n",
              "  <thead>\n",
              "    <tr style=\"text-align: right;\">\n",
              "      <th></th>\n",
              "      <th>student_id</th>\n",
              "      <th>rev</th>\n",
              "    </tr>\n",
              "  </thead>\n",
              "  <tbody>\n",
              "    <tr>\n",
              "      <th>0</th>\n",
              "      <td>1627</td>\n",
              "      <td>990.0</td>\n",
              "    </tr>\n",
              "    <tr>\n",
              "      <th>1</th>\n",
              "      <td>3185</td>\n",
              "      <td>690.0</td>\n",
              "    </tr>\n",
              "  </tbody>\n",
              "</table>\n",
              "</div>\n",
              "    <div class=\"colab-df-buttons\">\n",
              "\n",
              "  <div class=\"colab-df-container\">\n",
              "    <button class=\"colab-df-convert\" onclick=\"convertToInteractive('df-0def32d5-fc93-4fcd-ae56-89978c12de43')\"\n",
              "            title=\"Convert this dataframe to an interactive table.\"\n",
              "            style=\"display:none;\">\n",
              "\n",
              "  <svg xmlns=\"http://www.w3.org/2000/svg\" height=\"24px\" viewBox=\"0 -960 960 960\">\n",
              "    <path d=\"M120-120v-720h720v720H120Zm60-500h600v-160H180v160Zm220 220h160v-160H400v160Zm0 220h160v-160H400v160ZM180-400h160v-160H180v160Zm440 0h160v-160H620v160ZM180-180h160v-160H180v160Zm440 0h160v-160H620v160Z\"/>\n",
              "  </svg>\n",
              "    </button>\n",
              "\n",
              "  <style>\n",
              "    .colab-df-container {\n",
              "      display:flex;\n",
              "      gap: 12px;\n",
              "    }\n",
              "\n",
              "    .colab-df-convert {\n",
              "      background-color: #E8F0FE;\n",
              "      border: none;\n",
              "      border-radius: 50%;\n",
              "      cursor: pointer;\n",
              "      display: none;\n",
              "      fill: #1967D2;\n",
              "      height: 32px;\n",
              "      padding: 0 0 0 0;\n",
              "      width: 32px;\n",
              "    }\n",
              "\n",
              "    .colab-df-convert:hover {\n",
              "      background-color: #E2EBFA;\n",
              "      box-shadow: 0px 1px 2px rgba(60, 64, 67, 0.3), 0px 1px 3px 1px rgba(60, 64, 67, 0.15);\n",
              "      fill: #174EA6;\n",
              "    }\n",
              "\n",
              "    .colab-df-buttons div {\n",
              "      margin-bottom: 4px;\n",
              "    }\n",
              "\n",
              "    [theme=dark] .colab-df-convert {\n",
              "      background-color: #3B4455;\n",
              "      fill: #D2E3FC;\n",
              "    }\n",
              "\n",
              "    [theme=dark] .colab-df-convert:hover {\n",
              "      background-color: #434B5C;\n",
              "      box-shadow: 0px 1px 3px 1px rgba(0, 0, 0, 0.15);\n",
              "      filter: drop-shadow(0px 1px 2px rgba(0, 0, 0, 0.3));\n",
              "      fill: #FFFFFF;\n",
              "    }\n",
              "  </style>\n",
              "\n",
              "    <script>\n",
              "      const buttonEl =\n",
              "        document.querySelector('#df-0def32d5-fc93-4fcd-ae56-89978c12de43 button.colab-df-convert');\n",
              "      buttonEl.style.display =\n",
              "        google.colab.kernel.accessAllowed ? 'block' : 'none';\n",
              "\n",
              "      async function convertToInteractive(key) {\n",
              "        const element = document.querySelector('#df-0def32d5-fc93-4fcd-ae56-89978c12de43');\n",
              "        const dataTable =\n",
              "          await google.colab.kernel.invokeFunction('convertToInteractive',\n",
              "                                                    [key], {});\n",
              "        if (!dataTable) return;\n",
              "\n",
              "        const docLinkHtml = 'Like what you see? Visit the ' +\n",
              "          '<a target=\"_blank\" href=https://colab.research.google.com/notebooks/data_table.ipynb>data table notebook</a>'\n",
              "          + ' to learn more about interactive tables.';\n",
              "        element.innerHTML = '';\n",
              "        dataTable['output_type'] = 'display_data';\n",
              "        await google.colab.output.renderOutput(dataTable, element);\n",
              "        const docLink = document.createElement('div');\n",
              "        docLink.innerHTML = docLinkHtml;\n",
              "        element.appendChild(docLink);\n",
              "      }\n",
              "    </script>\n",
              "  </div>\n",
              "\n",
              "\n",
              "<div id=\"df-415b33cf-15a1-46b5-b1cf-68219da7b2a8\">\n",
              "  <button class=\"colab-df-quickchart\" onclick=\"quickchart('df-415b33cf-15a1-46b5-b1cf-68219da7b2a8')\"\n",
              "            title=\"Suggest charts\"\n",
              "            style=\"display:none;\">\n",
              "\n",
              "<svg xmlns=\"http://www.w3.org/2000/svg\" height=\"24px\"viewBox=\"0 0 24 24\"\n",
              "     width=\"24px\">\n",
              "    <g>\n",
              "        <path d=\"M19 3H5c-1.1 0-2 .9-2 2v14c0 1.1.9 2 2 2h14c1.1 0 2-.9 2-2V5c0-1.1-.9-2-2-2zM9 17H7v-7h2v7zm4 0h-2V7h2v10zm4 0h-2v-4h2v4z\"/>\n",
              "    </g>\n",
              "</svg>\n",
              "  </button>\n",
              "\n",
              "<style>\n",
              "  .colab-df-quickchart {\n",
              "      --bg-color: #E8F0FE;\n",
              "      --fill-color: #1967D2;\n",
              "      --hover-bg-color: #E2EBFA;\n",
              "      --hover-fill-color: #174EA6;\n",
              "      --disabled-fill-color: #AAA;\n",
              "      --disabled-bg-color: #DDD;\n",
              "  }\n",
              "\n",
              "  [theme=dark] .colab-df-quickchart {\n",
              "      --bg-color: #3B4455;\n",
              "      --fill-color: #D2E3FC;\n",
              "      --hover-bg-color: #434B5C;\n",
              "      --hover-fill-color: #FFFFFF;\n",
              "      --disabled-bg-color: #3B4455;\n",
              "      --disabled-fill-color: #666;\n",
              "  }\n",
              "\n",
              "  .colab-df-quickchart {\n",
              "    background-color: var(--bg-color);\n",
              "    border: none;\n",
              "    border-radius: 50%;\n",
              "    cursor: pointer;\n",
              "    display: none;\n",
              "    fill: var(--fill-color);\n",
              "    height: 32px;\n",
              "    padding: 0;\n",
              "    width: 32px;\n",
              "  }\n",
              "\n",
              "  .colab-df-quickchart:hover {\n",
              "    background-color: var(--hover-bg-color);\n",
              "    box-shadow: 0 1px 2px rgba(60, 64, 67, 0.3), 0 1px 3px 1px rgba(60, 64, 67, 0.15);\n",
              "    fill: var(--button-hover-fill-color);\n",
              "  }\n",
              "\n",
              "  .colab-df-quickchart-complete:disabled,\n",
              "  .colab-df-quickchart-complete:disabled:hover {\n",
              "    background-color: var(--disabled-bg-color);\n",
              "    fill: var(--disabled-fill-color);\n",
              "    box-shadow: none;\n",
              "  }\n",
              "\n",
              "  .colab-df-spinner {\n",
              "    border: 2px solid var(--fill-color);\n",
              "    border-color: transparent;\n",
              "    border-bottom-color: var(--fill-color);\n",
              "    animation:\n",
              "      spin 1s steps(1) infinite;\n",
              "  }\n",
              "\n",
              "  @keyframes spin {\n",
              "    0% {\n",
              "      border-color: transparent;\n",
              "      border-bottom-color: var(--fill-color);\n",
              "      border-left-color: var(--fill-color);\n",
              "    }\n",
              "    20% {\n",
              "      border-color: transparent;\n",
              "      border-left-color: var(--fill-color);\n",
              "      border-top-color: var(--fill-color);\n",
              "    }\n",
              "    30% {\n",
              "      border-color: transparent;\n",
              "      border-left-color: var(--fill-color);\n",
              "      border-top-color: var(--fill-color);\n",
              "      border-right-color: var(--fill-color);\n",
              "    }\n",
              "    40% {\n",
              "      border-color: transparent;\n",
              "      border-right-color: var(--fill-color);\n",
              "      border-top-color: var(--fill-color);\n",
              "    }\n",
              "    60% {\n",
              "      border-color: transparent;\n",
              "      border-right-color: var(--fill-color);\n",
              "    }\n",
              "    80% {\n",
              "      border-color: transparent;\n",
              "      border-right-color: var(--fill-color);\n",
              "      border-bottom-color: var(--fill-color);\n",
              "    }\n",
              "    90% {\n",
              "      border-color: transparent;\n",
              "      border-bottom-color: var(--fill-color);\n",
              "    }\n",
              "  }\n",
              "</style>\n",
              "\n",
              "  <script>\n",
              "    async function quickchart(key) {\n",
              "      const quickchartButtonEl =\n",
              "        document.querySelector('#' + key + ' button');\n",
              "      quickchartButtonEl.disabled = true;  // To prevent multiple clicks.\n",
              "      quickchartButtonEl.classList.add('colab-df-spinner');\n",
              "      try {\n",
              "        const charts = await google.colab.kernel.invokeFunction(\n",
              "            'suggestCharts', [key], {});\n",
              "      } catch (error) {\n",
              "        console.error('Error during call to suggestCharts:', error);\n",
              "      }\n",
              "      quickchartButtonEl.classList.remove('colab-df-spinner');\n",
              "      quickchartButtonEl.classList.add('colab-df-quickchart-complete');\n",
              "    }\n",
              "    (() => {\n",
              "      let quickchartButtonEl =\n",
              "        document.querySelector('#df-415b33cf-15a1-46b5-b1cf-68219da7b2a8 button');\n",
              "      quickchartButtonEl.style.display =\n",
              "        google.colab.kernel.accessAllowed ? 'block' : 'none';\n",
              "    })();\n",
              "  </script>\n",
              "</div>\n",
              "    </div>\n",
              "  </div>\n"
            ],
            "application/vnd.google.colaboratory.intrinsic+json": {
              "type": "dataframe",
              "variable_name": "checks",
              "summary": "{\n  \"name\": \"checks\",\n  \"rows\": 541,\n  \"fields\": [\n    {\n      \"column\": \"student_id\",\n      \"properties\": {\n        \"dtype\": \"number\",\n        \"std\": 1726838,\n        \"min\": 1627,\n        \"max\": 5740903,\n        \"num_unique_values\": 541,\n        \"samples\": [\n          1683435,\n          450766,\n          3330061\n        ],\n        \"semantic_type\": \"\",\n        \"description\": \"\"\n      }\n    },\n    {\n      \"column\": \"rev\",\n      \"properties\": {\n        \"dtype\": \"number\",\n        \"std\": 762.7123588432365,\n        \"min\": 199.0,\n        \"max\": 4650.0,\n        \"num_unique_values\": 39,\n        \"samples\": [\n          489.0,\n          1339.0,\n          290.0\n        ],\n        \"semantic_type\": \"\",\n        \"description\": \"\"\n      }\n    }\n  ]\n}"
            }
          },
          "metadata": {},
          "execution_count": 99
        }
      ],
      "source": [
        "checks.head(2)  # просмотр данных"
      ]
    },
    {
      "cell_type": "code",
      "execution_count": 100,
      "id": "e1c53fa5",
      "metadata": {
        "colab": {
          "base_uri": "https://localhost:8080/"
        },
        "id": "e1c53fa5",
        "outputId": "7a41d7a7-5979-44f8-81a0-dda5826ab79e",
        "scrolled": true
      },
      "outputs": [
        {
          "output_type": "stream",
          "name": "stdout",
          "text": [
            "<class 'pandas.core.frame.DataFrame'>\n",
            "RangeIndex: 541 entries, 0 to 540\n",
            "Data columns (total 2 columns):\n",
            " #   Column      Non-Null Count  Dtype  \n",
            "---  ------      --------------  -----  \n",
            " 0   student_id  541 non-null    int64  \n",
            " 1   rev         541 non-null    float64\n",
            "dtypes: float64(1), int64(1)\n",
            "memory usage: 8.6 KB\n"
          ]
        }
      ],
      "source": [
        "checks.info()  # проверка пропусков и типов данных"
      ]
    },
    {
      "cell_type": "code",
      "execution_count": 101,
      "id": "7531c5e3",
      "metadata": {
        "colab": {
          "base_uri": "https://localhost:8080/"
        },
        "id": "7531c5e3",
        "outputId": "8b9bd349-428f-4839-96cb-61f3ca3922a7"
      },
      "outputs": [
        {
          "output_type": "execute_result",
          "data": {
            "text/plain": [
              "541"
            ]
          },
          "metadata": {},
          "execution_count": 101
        }
      ],
      "source": [
        "checks.student_id.nunique()  # проверка уникальных значений"
      ]
    },
    {
      "cell_type": "markdown",
      "id": "77ec8316",
      "metadata": {
        "id": "77ec8316"
      },
      "source": [
        "Таблица checks не содержит пропуски, все id пользователей уникальны и имеют формат целого числа, но название колонки отличается от названия аналогичной колонки в таблицах groups и groups_add. Сумма платежа имеет формат числа с плавающей запятой."
      ]
    },
    {
      "cell_type": "code",
      "execution_count": 102,
      "id": "f24fa472",
      "metadata": {
        "id": "f24fa472"
      },
      "outputs": [],
      "source": [
        "groups_full = pd.concat([groups, groups_add], ignore_index=True)  # объединение таблиц groups и groups_add."
      ]
    },
    {
      "cell_type": "code",
      "execution_count": 103,
      "id": "fe466063",
      "metadata": {
        "colab": {
          "base_uri": "https://localhost:8080/"
        },
        "id": "fe466063",
        "outputId": "ba0c0b4d-5968-4d4d-8f4f-ae629835f6ea"
      },
      "outputs": [
        {
          "output_type": "stream",
          "name": "stdout",
          "text": [
            "<class 'pandas.core.frame.DataFrame'>\n",
            "RangeIndex: 74576 entries, 0 to 74575\n",
            "Data columns (total 2 columns):\n",
            " #   Column  Non-Null Count  Dtype \n",
            "---  ------  --------------  ----- \n",
            " 0   id      74576 non-null  int64 \n",
            " 1   grp     74576 non-null  object\n",
            "dtypes: int64(1), object(1)\n",
            "memory usage: 1.1+ MB\n"
          ]
        }
      ],
      "source": [
        "groups_full.info()"
      ]
    },
    {
      "cell_type": "code",
      "execution_count": 104,
      "id": "d28e2d7e",
      "metadata": {
        "colab": {
          "base_uri": "https://localhost:8080/"
        },
        "id": "d28e2d7e",
        "outputId": "5f88700a-bd37-421a-cb01-ab78ac8e82de"
      },
      "outputs": [
        {
          "output_type": "execute_result",
          "data": {
            "text/plain": [
              "set()"
            ]
          },
          "metadata": {},
          "execution_count": 104
        }
      ],
      "source": [
        "grp_A = set(groups_full.query('grp==\"A\"').id)\n",
        "grp_B = set(groups_full.query('grp==\"B\"').id)\n",
        "\n",
        "grp_A.intersection(grp_B)  # проверка пересечений в группах"
      ]
    },
    {
      "cell_type": "code",
      "execution_count": 105,
      "id": "c550a612",
      "metadata": {
        "id": "c550a612"
      },
      "outputs": [],
      "source": [
        "active_studs_extended = active_studs.merge(checks, how='left', on='student_id')\n",
        "# объединение данных об активных пользователях с данными об оплатах"
      ]
    },
    {
      "cell_type": "code",
      "execution_count": 106,
      "id": "93a12eac",
      "metadata": {
        "colab": {
          "base_uri": "https://localhost:8080/"
        },
        "id": "93a12eac",
        "outputId": "b0073812-d6b2-4cca-ba1f-44aebc66f242"
      },
      "outputs": [
        {
          "output_type": "stream",
          "name": "stdout",
          "text": [
            "<class 'pandas.core.frame.DataFrame'>\n",
            "RangeIndex: 8341 entries, 0 to 8340\n",
            "Data columns (total 2 columns):\n",
            " #   Column      Non-Null Count  Dtype  \n",
            "---  ------      --------------  -----  \n",
            " 0   student_id  8341 non-null   int64  \n",
            " 1   rev         392 non-null    float64\n",
            "dtypes: float64(1), int64(1)\n",
            "memory usage: 130.5 KB\n"
          ]
        }
      ],
      "source": [
        "active_studs_extended.info()"
      ]
    },
    {
      "cell_type": "markdown",
      "id": "a214eafd",
      "metadata": {
        "id": "a214eafd"
      },
      "source": [
        "После объединения данных уменьшилось число оплат. Таким образом 149 пользователей совершили покупку не заходя на платформу."
      ]
    },
    {
      "cell_type": "code",
      "execution_count": 107,
      "id": "b94d9381",
      "metadata": {
        "id": "b94d9381"
      },
      "outputs": [],
      "source": [
        "not_active_payed = checks.merge(active_studs, how='left', on='student_id', indicator=True) \\\n",
        "    .query(\"_merge == 'left_only'\") \\\n",
        "    .drop('_merge', axis=1).student_id  # список пользователей, не участвующих в анализе"
      ]
    },
    {
      "cell_type": "code",
      "execution_count": 108,
      "id": "995c35dc",
      "metadata": {
        "id": "995c35dc"
      },
      "outputs": [],
      "source": [
        "active_studs_extended = active_studs_extended.merge(groups_full, how='left', left_on='student_id', right_on='id')\n",
        "# добавление информации о принадлежности к одной из групп"
      ]
    },
    {
      "cell_type": "code",
      "execution_count": 109,
      "id": "de23579b",
      "metadata": {
        "colab": {
          "base_uri": "https://localhost:8080/"
        },
        "id": "de23579b",
        "outputId": "9ba45fae-4dc9-4dc8-e98a-4c405e441de0"
      },
      "outputs": [
        {
          "output_type": "stream",
          "name": "stdout",
          "text": [
            "<class 'pandas.core.frame.DataFrame'>\n",
            "RangeIndex: 8341 entries, 0 to 8340\n",
            "Data columns (total 4 columns):\n",
            " #   Column      Non-Null Count  Dtype  \n",
            "---  ------      --------------  -----  \n",
            " 0   student_id  8341 non-null   int64  \n",
            " 1   rev         392 non-null    float64\n",
            " 2   id          8341 non-null   int64  \n",
            " 3   grp         8341 non-null   object \n",
            "dtypes: float64(1), int64(2), object(1)\n",
            "memory usage: 260.8+ KB\n"
          ]
        }
      ],
      "source": [
        "active_studs_extended.info()  # проверка на пропуски"
      ]
    },
    {
      "cell_type": "markdown",
      "id": "1673af9a",
      "metadata": {
        "id": "1673af9a"
      },
      "source": [
        "  27% пользователей совершили покупку не заходя на платформу (149 из 541 пользователя есть в таблице checks, но отсутствуют в таблице active_studs).\n",
        "\n",
        " Необходимо знать причину (автоматические списания, зависшие платежи или ошибки при сборе данных?) и при необходимости скорректировать исходные данные.\n",
        "\n",
        "\n",
        "**Анализ произведен исходя из следующих условий:**\n",
        "1. каждый пользователь однозначно отнесен к одной из групп (А или В),\n",
        "2. участие пользователя в тесте определяется его входом на платформу в дни проведения эксперимента. Другими словами, <p style=\"color:red;\"> пользователи совершившие оплату в дни проведения эксперимента, но не зашедшие на платформу исключены из анализа.</p>\n"
      ]
    },
    {
      "cell_type": "markdown",
      "id": "7cd34d9e",
      "metadata": {
        "id": "7cd34d9e"
      },
      "source": [
        "### Выбор метрик"
      ]
    },
    {
      "cell_type": "markdown",
      "id": "43726e43",
      "metadata": {
        "id": "43726e43"
      },
      "source": [
        "Исходя из конечной цели введения новой механики оплаты - повышения дохода, ожидаемый эффект - увеличение количества и/или суммы покупок.\n",
        "\n",
        "Основными метриками являются:\n",
        "\n",
        "**Конверсия из посещения платформы в покупку CR** = (Количество покупок / Число активных пользователей) * 100%.\n",
        "    \n",
        "**Средний доход на платящего пользователя ARPPU** (Будет совпадать со средним чеком, так как каждый покупатель совершил только одну покупку) = (Доход / Количество покупок)\n",
        "\n",
        "Дополнительно будут рассмотрены метрики:\n",
        "\n",
        "**Cредний доход с активного пользователя ARPAU** = (Доход / Число активных пользователей)."
      ]
    },
    {
      "cell_type": "markdown",
      "id": "e4edfb77",
      "metadata": {
        "id": "e4edfb77"
      },
      "source": [
        "## Расчет и оценка метрик"
      ]
    },
    {
      "cell_type": "markdown",
      "id": "4aa39ed5",
      "metadata": {
        "id": "4aa39ed5"
      },
      "source": [
        "#### CR to payment"
      ]
    },
    {
      "cell_type": "code",
      "execution_count": 110,
      "id": "3a035e43",
      "metadata": {
        "id": "3a035e43"
      },
      "outputs": [],
      "source": [
        "active_studs_extended['payment'] = active_studs_extended.rev.notna()\n",
        "# новая колонка со статусом оплаты - произведена (TRUE) или нет (FALSE)"
      ]
    },
    {
      "cell_type": "code",
      "execution_count": 111,
      "id": "3f2a6b1f",
      "metadata": {
        "id": "3f2a6b1f"
      },
      "outputs": [],
      "source": [
        "active_studs_extended.payment = active_studs_extended.payment.astype(int)\n",
        "# в итоговой таблице статус оплаты обозначен цифрами \"0\" - оплата не произведена, \"1\" - оплата произведена"
      ]
    },
    {
      "cell_type": "code",
      "execution_count": 112,
      "id": "bba1aca9",
      "metadata": {
        "id": "bba1aca9"
      },
      "outputs": [],
      "source": [
        "active_studs_extended.rev = active_studs_extended.rev.fillna(0)  # заполнение пропусков в сумме оплаты нулями"
      ]
    },
    {
      "cell_type": "code",
      "execution_count": 113,
      "id": "32b51894",
      "metadata": {
        "colab": {
          "base_uri": "https://localhost:8080/",
          "height": 112
        },
        "id": "32b51894",
        "outputId": "af0d390d-6310-48aa-b927-22d8c3eb3d1a"
      },
      "outputs": [
        {
          "output_type": "execute_result",
          "data": {
            "text/plain": [
              "   student_id  rev       id grp  payment\n",
              "0      581585  0.0   581585   A        0\n",
              "1     5723133  0.0  5723133   A        0"
            ],
            "text/html": [
              "\n",
              "  <div id=\"df-af8c9962-98c0-4e33-97f0-8615dae2e819\" class=\"colab-df-container\">\n",
              "    <div>\n",
              "<style scoped>\n",
              "    .dataframe tbody tr th:only-of-type {\n",
              "        vertical-align: middle;\n",
              "    }\n",
              "\n",
              "    .dataframe tbody tr th {\n",
              "        vertical-align: top;\n",
              "    }\n",
              "\n",
              "    .dataframe thead th {\n",
              "        text-align: right;\n",
              "    }\n",
              "</style>\n",
              "<table border=\"1\" class=\"dataframe\">\n",
              "  <thead>\n",
              "    <tr style=\"text-align: right;\">\n",
              "      <th></th>\n",
              "      <th>student_id</th>\n",
              "      <th>rev</th>\n",
              "      <th>id</th>\n",
              "      <th>grp</th>\n",
              "      <th>payment</th>\n",
              "    </tr>\n",
              "  </thead>\n",
              "  <tbody>\n",
              "    <tr>\n",
              "      <th>0</th>\n",
              "      <td>581585</td>\n",
              "      <td>0.0</td>\n",
              "      <td>581585</td>\n",
              "      <td>A</td>\n",
              "      <td>0</td>\n",
              "    </tr>\n",
              "    <tr>\n",
              "      <th>1</th>\n",
              "      <td>5723133</td>\n",
              "      <td>0.0</td>\n",
              "      <td>5723133</td>\n",
              "      <td>A</td>\n",
              "      <td>0</td>\n",
              "    </tr>\n",
              "  </tbody>\n",
              "</table>\n",
              "</div>\n",
              "    <div class=\"colab-df-buttons\">\n",
              "\n",
              "  <div class=\"colab-df-container\">\n",
              "    <button class=\"colab-df-convert\" onclick=\"convertToInteractive('df-af8c9962-98c0-4e33-97f0-8615dae2e819')\"\n",
              "            title=\"Convert this dataframe to an interactive table.\"\n",
              "            style=\"display:none;\">\n",
              "\n",
              "  <svg xmlns=\"http://www.w3.org/2000/svg\" height=\"24px\" viewBox=\"0 -960 960 960\">\n",
              "    <path d=\"M120-120v-720h720v720H120Zm60-500h600v-160H180v160Zm220 220h160v-160H400v160Zm0 220h160v-160H400v160ZM180-400h160v-160H180v160Zm440 0h160v-160H620v160ZM180-180h160v-160H180v160Zm440 0h160v-160H620v160Z\"/>\n",
              "  </svg>\n",
              "    </button>\n",
              "\n",
              "  <style>\n",
              "    .colab-df-container {\n",
              "      display:flex;\n",
              "      gap: 12px;\n",
              "    }\n",
              "\n",
              "    .colab-df-convert {\n",
              "      background-color: #E8F0FE;\n",
              "      border: none;\n",
              "      border-radius: 50%;\n",
              "      cursor: pointer;\n",
              "      display: none;\n",
              "      fill: #1967D2;\n",
              "      height: 32px;\n",
              "      padding: 0 0 0 0;\n",
              "      width: 32px;\n",
              "    }\n",
              "\n",
              "    .colab-df-convert:hover {\n",
              "      background-color: #E2EBFA;\n",
              "      box-shadow: 0px 1px 2px rgba(60, 64, 67, 0.3), 0px 1px 3px 1px rgba(60, 64, 67, 0.15);\n",
              "      fill: #174EA6;\n",
              "    }\n",
              "\n",
              "    .colab-df-buttons div {\n",
              "      margin-bottom: 4px;\n",
              "    }\n",
              "\n",
              "    [theme=dark] .colab-df-convert {\n",
              "      background-color: #3B4455;\n",
              "      fill: #D2E3FC;\n",
              "    }\n",
              "\n",
              "    [theme=dark] .colab-df-convert:hover {\n",
              "      background-color: #434B5C;\n",
              "      box-shadow: 0px 1px 3px 1px rgba(0, 0, 0, 0.15);\n",
              "      filter: drop-shadow(0px 1px 2px rgba(0, 0, 0, 0.3));\n",
              "      fill: #FFFFFF;\n",
              "    }\n",
              "  </style>\n",
              "\n",
              "    <script>\n",
              "      const buttonEl =\n",
              "        document.querySelector('#df-af8c9962-98c0-4e33-97f0-8615dae2e819 button.colab-df-convert');\n",
              "      buttonEl.style.display =\n",
              "        google.colab.kernel.accessAllowed ? 'block' : 'none';\n",
              "\n",
              "      async function convertToInteractive(key) {\n",
              "        const element = document.querySelector('#df-af8c9962-98c0-4e33-97f0-8615dae2e819');\n",
              "        const dataTable =\n",
              "          await google.colab.kernel.invokeFunction('convertToInteractive',\n",
              "                                                    [key], {});\n",
              "        if (!dataTable) return;\n",
              "\n",
              "        const docLinkHtml = 'Like what you see? Visit the ' +\n",
              "          '<a target=\"_blank\" href=https://colab.research.google.com/notebooks/data_table.ipynb>data table notebook</a>'\n",
              "          + ' to learn more about interactive tables.';\n",
              "        element.innerHTML = '';\n",
              "        dataTable['output_type'] = 'display_data';\n",
              "        await google.colab.output.renderOutput(dataTable, element);\n",
              "        const docLink = document.createElement('div');\n",
              "        docLink.innerHTML = docLinkHtml;\n",
              "        element.appendChild(docLink);\n",
              "      }\n",
              "    </script>\n",
              "  </div>\n",
              "\n",
              "\n",
              "<div id=\"df-0c581e8f-c6f7-4433-aa41-47f40e01800e\">\n",
              "  <button class=\"colab-df-quickchart\" onclick=\"quickchart('df-0c581e8f-c6f7-4433-aa41-47f40e01800e')\"\n",
              "            title=\"Suggest charts\"\n",
              "            style=\"display:none;\">\n",
              "\n",
              "<svg xmlns=\"http://www.w3.org/2000/svg\" height=\"24px\"viewBox=\"0 0 24 24\"\n",
              "     width=\"24px\">\n",
              "    <g>\n",
              "        <path d=\"M19 3H5c-1.1 0-2 .9-2 2v14c0 1.1.9 2 2 2h14c1.1 0 2-.9 2-2V5c0-1.1-.9-2-2-2zM9 17H7v-7h2v7zm4 0h-2V7h2v10zm4 0h-2v-4h2v4z\"/>\n",
              "    </g>\n",
              "</svg>\n",
              "  </button>\n",
              "\n",
              "<style>\n",
              "  .colab-df-quickchart {\n",
              "      --bg-color: #E8F0FE;\n",
              "      --fill-color: #1967D2;\n",
              "      --hover-bg-color: #E2EBFA;\n",
              "      --hover-fill-color: #174EA6;\n",
              "      --disabled-fill-color: #AAA;\n",
              "      --disabled-bg-color: #DDD;\n",
              "  }\n",
              "\n",
              "  [theme=dark] .colab-df-quickchart {\n",
              "      --bg-color: #3B4455;\n",
              "      --fill-color: #D2E3FC;\n",
              "      --hover-bg-color: #434B5C;\n",
              "      --hover-fill-color: #FFFFFF;\n",
              "      --disabled-bg-color: #3B4455;\n",
              "      --disabled-fill-color: #666;\n",
              "  }\n",
              "\n",
              "  .colab-df-quickchart {\n",
              "    background-color: var(--bg-color);\n",
              "    border: none;\n",
              "    border-radius: 50%;\n",
              "    cursor: pointer;\n",
              "    display: none;\n",
              "    fill: var(--fill-color);\n",
              "    height: 32px;\n",
              "    padding: 0;\n",
              "    width: 32px;\n",
              "  }\n",
              "\n",
              "  .colab-df-quickchart:hover {\n",
              "    background-color: var(--hover-bg-color);\n",
              "    box-shadow: 0 1px 2px rgba(60, 64, 67, 0.3), 0 1px 3px 1px rgba(60, 64, 67, 0.15);\n",
              "    fill: var(--button-hover-fill-color);\n",
              "  }\n",
              "\n",
              "  .colab-df-quickchart-complete:disabled,\n",
              "  .colab-df-quickchart-complete:disabled:hover {\n",
              "    background-color: var(--disabled-bg-color);\n",
              "    fill: var(--disabled-fill-color);\n",
              "    box-shadow: none;\n",
              "  }\n",
              "\n",
              "  .colab-df-spinner {\n",
              "    border: 2px solid var(--fill-color);\n",
              "    border-color: transparent;\n",
              "    border-bottom-color: var(--fill-color);\n",
              "    animation:\n",
              "      spin 1s steps(1) infinite;\n",
              "  }\n",
              "\n",
              "  @keyframes spin {\n",
              "    0% {\n",
              "      border-color: transparent;\n",
              "      border-bottom-color: var(--fill-color);\n",
              "      border-left-color: var(--fill-color);\n",
              "    }\n",
              "    20% {\n",
              "      border-color: transparent;\n",
              "      border-left-color: var(--fill-color);\n",
              "      border-top-color: var(--fill-color);\n",
              "    }\n",
              "    30% {\n",
              "      border-color: transparent;\n",
              "      border-left-color: var(--fill-color);\n",
              "      border-top-color: var(--fill-color);\n",
              "      border-right-color: var(--fill-color);\n",
              "    }\n",
              "    40% {\n",
              "      border-color: transparent;\n",
              "      border-right-color: var(--fill-color);\n",
              "      border-top-color: var(--fill-color);\n",
              "    }\n",
              "    60% {\n",
              "      border-color: transparent;\n",
              "      border-right-color: var(--fill-color);\n",
              "    }\n",
              "    80% {\n",
              "      border-color: transparent;\n",
              "      border-right-color: var(--fill-color);\n",
              "      border-bottom-color: var(--fill-color);\n",
              "    }\n",
              "    90% {\n",
              "      border-color: transparent;\n",
              "      border-bottom-color: var(--fill-color);\n",
              "    }\n",
              "  }\n",
              "</style>\n",
              "\n",
              "  <script>\n",
              "    async function quickchart(key) {\n",
              "      const quickchartButtonEl =\n",
              "        document.querySelector('#' + key + ' button');\n",
              "      quickchartButtonEl.disabled = true;  // To prevent multiple clicks.\n",
              "      quickchartButtonEl.classList.add('colab-df-spinner');\n",
              "      try {\n",
              "        const charts = await google.colab.kernel.invokeFunction(\n",
              "            'suggestCharts', [key], {});\n",
              "      } catch (error) {\n",
              "        console.error('Error during call to suggestCharts:', error);\n",
              "      }\n",
              "      quickchartButtonEl.classList.remove('colab-df-spinner');\n",
              "      quickchartButtonEl.classList.add('colab-df-quickchart-complete');\n",
              "    }\n",
              "    (() => {\n",
              "      let quickchartButtonEl =\n",
              "        document.querySelector('#df-0c581e8f-c6f7-4433-aa41-47f40e01800e button');\n",
              "      quickchartButtonEl.style.display =\n",
              "        google.colab.kernel.accessAllowed ? 'block' : 'none';\n",
              "    })();\n",
              "  </script>\n",
              "</div>\n",
              "    </div>\n",
              "  </div>\n"
            ],
            "application/vnd.google.colaboratory.intrinsic+json": {
              "type": "dataframe",
              "variable_name": "active_studs_extended",
              "summary": "{\n  \"name\": \"active_studs_extended\",\n  \"rows\": 8341,\n  \"fields\": [\n    {\n      \"column\": \"student_id\",\n      \"properties\": {\n        \"dtype\": \"number\",\n        \"std\": 1564978,\n        \"min\": 1627,\n        \"max\": 5951797,\n        \"num_unique_values\": 8341,\n        \"samples\": [\n          983778,\n          3279259,\n          4964891\n        ],\n        \"semantic_type\": \"\",\n        \"description\": \"\"\n      }\n    },\n    {\n      \"column\": \"rev\",\n      \"properties\": {\n        \"dtype\": \"number\",\n        \"std\": 309.62034934903085,\n        \"min\": 0.0,\n        \"max\": 4650.0,\n        \"num_unique_values\": 39,\n        \"samples\": [\n          2190.0,\n          1968.0,\n          1980.0\n        ],\n        \"semantic_type\": \"\",\n        \"description\": \"\"\n      }\n    },\n    {\n      \"column\": \"id\",\n      \"properties\": {\n        \"dtype\": \"number\",\n        \"std\": 1564978,\n        \"min\": 1627,\n        \"max\": 5951797,\n        \"num_unique_values\": 8341,\n        \"samples\": [\n          983778,\n          3279259,\n          4964891\n        ],\n        \"semantic_type\": \"\",\n        \"description\": \"\"\n      }\n    },\n    {\n      \"column\": \"grp\",\n      \"properties\": {\n        \"dtype\": \"category\",\n        \"num_unique_values\": 2,\n        \"samples\": [\n          \"B\",\n          \"A\"\n        ],\n        \"semantic_type\": \"\",\n        \"description\": \"\"\n      }\n    },\n    {\n      \"column\": \"payment\",\n      \"properties\": {\n        \"dtype\": \"number\",\n        \"std\": 0,\n        \"min\": 0,\n        \"max\": 1,\n        \"num_unique_values\": 2,\n        \"samples\": [\n          1,\n          0\n        ],\n        \"semantic_type\": \"\",\n        \"description\": \"\"\n      }\n    }\n  ]\n}"
            }
          },
          "metadata": {},
          "execution_count": 113
        }
      ],
      "source": [
        "active_studs_extended.head(2)"
      ]
    },
    {
      "cell_type": "code",
      "execution_count": 114,
      "id": "f56d0db3",
      "metadata": {
        "colab": {
          "base_uri": "https://localhost:8080/"
        },
        "id": "f56d0db3",
        "outputId": "dd05f149-f3c9-447b-81e1-cd60703865c7"
      },
      "outputs": [
        {
          "output_type": "execute_result",
          "data": {
            "text/plain": [
              "grp\n",
              "B    6803\n",
              "A    1538\n",
              "Name: count, dtype: int64"
            ]
          },
          "metadata": {},
          "execution_count": 114
        }
      ],
      "source": [
        "active_studs_extended.grp.value_counts()  # размеры выборок активных пользователей."
      ]
    },
    {
      "cell_type": "code",
      "execution_count": 115,
      "id": "cc05315e",
      "metadata": {
        "id": "cc05315e"
      },
      "outputs": [],
      "source": [
        "group_A = active_studs_extended.query('grp == \"A\"')  # данные о контрольной группе"
      ]
    },
    {
      "cell_type": "code",
      "execution_count": 116,
      "id": "2d95e201",
      "metadata": {
        "id": "2d95e201"
      },
      "outputs": [],
      "source": [
        "group_B = active_studs_extended.query('grp == \"B\"')  # данные о целевой группе"
      ]
    },
    {
      "cell_type": "code",
      "execution_count": 117,
      "id": "a1c0bb8c",
      "metadata": {
        "colab": {
          "base_uri": "https://localhost:8080/"
        },
        "id": "a1c0bb8c",
        "outputId": "1f91fa94-d008-431c-9221-99242c8db122"
      },
      "outputs": [
        {
          "output_type": "execute_result",
          "data": {
            "text/plain": [
              "5.07"
            ]
          },
          "metadata": {},
          "execution_count": 117
        }
      ],
      "source": [
        "CR_to_payment_A = round(100 * group_A.payment.sum() / group_A.student_id.count(), 2)  # конверсия в контрольной группе\n",
        "CR_to_payment_A"
      ]
    },
    {
      "cell_type": "code",
      "execution_count": 118,
      "id": "16f98387",
      "metadata": {
        "colab": {
          "base_uri": "https://localhost:8080/"
        },
        "id": "16f98387",
        "outputId": "2281a23b-220a-4090-c524-de571db07105"
      },
      "outputs": [
        {
          "output_type": "execute_result",
          "data": {
            "text/plain": [
              "4.62"
            ]
          },
          "metadata": {},
          "execution_count": 118
        }
      ],
      "source": [
        "CR_to_payment_B = round(100 * group_B.payment.sum() / group_B.student_id.count(), 2)  # конверсия в целевой группе\n",
        "CR_to_payment_B"
      ]
    },
    {
      "cell_type": "markdown",
      "id": "06f45a27",
      "metadata": {
        "id": "06f45a27"
      },
      "source": [
        "**Конверсия в целевой группе (4,62%) ниже конверсии в контрольной группе (5,07%).**\n",
        "\n",
        "Различия в значениях есть, проверяется статистическая значимость."
      ]
    },
    {
      "cell_type": "markdown",
      "id": "baf6b06f",
      "metadata": {
        "id": "baf6b06f"
      },
      "source": [
        "Статус оплаты - категориальная переменная, статистическая значимость проверяется с помощью критерия Хи-квадрат.\n",
        "\n",
        "H0 - Конверсии пользователей в покупателей в тестовой и контрольной группах равны.\n",
        "\n",
        "Н1 - Конверсия пользователей в покупателей в тестовой группе выше, чем в контрольной."
      ]
    },
    {
      "cell_type": "code",
      "execution_count": 119,
      "id": "f979632e",
      "metadata": {
        "id": "f979632e"
      },
      "outputs": [],
      "source": [
        "payment_crosstab = pd.crosstab(active_studs_extended.grp, active_studs_extended.payment)\n",
        "# таблица кросс-табуляции показывает, сколько пользователей в каждой группе совершили и не совершили покупку"
      ]
    },
    {
      "cell_type": "code",
      "execution_count": 120,
      "id": "3ed2b35f",
      "metadata": {
        "colab": {
          "base_uri": "https://localhost:8080/",
          "height": 143
        },
        "id": "3ed2b35f",
        "outputId": "d9bfd044-1a00-41e0-d1fc-58b0af9b54c3"
      },
      "outputs": [
        {
          "output_type": "execute_result",
          "data": {
            "text/plain": [
              "payment     0    1\n",
              "grp               \n",
              "A        1460   78\n",
              "B        6489  314"
            ],
            "text/html": [
              "\n",
              "  <div id=\"df-66835381-05dd-4704-846c-9bd6c1c0879e\" class=\"colab-df-container\">\n",
              "    <div>\n",
              "<style scoped>\n",
              "    .dataframe tbody tr th:only-of-type {\n",
              "        vertical-align: middle;\n",
              "    }\n",
              "\n",
              "    .dataframe tbody tr th {\n",
              "        vertical-align: top;\n",
              "    }\n",
              "\n",
              "    .dataframe thead th {\n",
              "        text-align: right;\n",
              "    }\n",
              "</style>\n",
              "<table border=\"1\" class=\"dataframe\">\n",
              "  <thead>\n",
              "    <tr style=\"text-align: right;\">\n",
              "      <th>payment</th>\n",
              "      <th>0</th>\n",
              "      <th>1</th>\n",
              "    </tr>\n",
              "    <tr>\n",
              "      <th>grp</th>\n",
              "      <th></th>\n",
              "      <th></th>\n",
              "    </tr>\n",
              "  </thead>\n",
              "  <tbody>\n",
              "    <tr>\n",
              "      <th>A</th>\n",
              "      <td>1460</td>\n",
              "      <td>78</td>\n",
              "    </tr>\n",
              "    <tr>\n",
              "      <th>B</th>\n",
              "      <td>6489</td>\n",
              "      <td>314</td>\n",
              "    </tr>\n",
              "  </tbody>\n",
              "</table>\n",
              "</div>\n",
              "    <div class=\"colab-df-buttons\">\n",
              "\n",
              "  <div class=\"colab-df-container\">\n",
              "    <button class=\"colab-df-convert\" onclick=\"convertToInteractive('df-66835381-05dd-4704-846c-9bd6c1c0879e')\"\n",
              "            title=\"Convert this dataframe to an interactive table.\"\n",
              "            style=\"display:none;\">\n",
              "\n",
              "  <svg xmlns=\"http://www.w3.org/2000/svg\" height=\"24px\" viewBox=\"0 -960 960 960\">\n",
              "    <path d=\"M120-120v-720h720v720H120Zm60-500h600v-160H180v160Zm220 220h160v-160H400v160Zm0 220h160v-160H400v160ZM180-400h160v-160H180v160Zm440 0h160v-160H620v160ZM180-180h160v-160H180v160Zm440 0h160v-160H620v160Z\"/>\n",
              "  </svg>\n",
              "    </button>\n",
              "\n",
              "  <style>\n",
              "    .colab-df-container {\n",
              "      display:flex;\n",
              "      gap: 12px;\n",
              "    }\n",
              "\n",
              "    .colab-df-convert {\n",
              "      background-color: #E8F0FE;\n",
              "      border: none;\n",
              "      border-radius: 50%;\n",
              "      cursor: pointer;\n",
              "      display: none;\n",
              "      fill: #1967D2;\n",
              "      height: 32px;\n",
              "      padding: 0 0 0 0;\n",
              "      width: 32px;\n",
              "    }\n",
              "\n",
              "    .colab-df-convert:hover {\n",
              "      background-color: #E2EBFA;\n",
              "      box-shadow: 0px 1px 2px rgba(60, 64, 67, 0.3), 0px 1px 3px 1px rgba(60, 64, 67, 0.15);\n",
              "      fill: #174EA6;\n",
              "    }\n",
              "\n",
              "    .colab-df-buttons div {\n",
              "      margin-bottom: 4px;\n",
              "    }\n",
              "\n",
              "    [theme=dark] .colab-df-convert {\n",
              "      background-color: #3B4455;\n",
              "      fill: #D2E3FC;\n",
              "    }\n",
              "\n",
              "    [theme=dark] .colab-df-convert:hover {\n",
              "      background-color: #434B5C;\n",
              "      box-shadow: 0px 1px 3px 1px rgba(0, 0, 0, 0.15);\n",
              "      filter: drop-shadow(0px 1px 2px rgba(0, 0, 0, 0.3));\n",
              "      fill: #FFFFFF;\n",
              "    }\n",
              "  </style>\n",
              "\n",
              "    <script>\n",
              "      const buttonEl =\n",
              "        document.querySelector('#df-66835381-05dd-4704-846c-9bd6c1c0879e button.colab-df-convert');\n",
              "      buttonEl.style.display =\n",
              "        google.colab.kernel.accessAllowed ? 'block' : 'none';\n",
              "\n",
              "      async function convertToInteractive(key) {\n",
              "        const element = document.querySelector('#df-66835381-05dd-4704-846c-9bd6c1c0879e');\n",
              "        const dataTable =\n",
              "          await google.colab.kernel.invokeFunction('convertToInteractive',\n",
              "                                                    [key], {});\n",
              "        if (!dataTable) return;\n",
              "\n",
              "        const docLinkHtml = 'Like what you see? Visit the ' +\n",
              "          '<a target=\"_blank\" href=https://colab.research.google.com/notebooks/data_table.ipynb>data table notebook</a>'\n",
              "          + ' to learn more about interactive tables.';\n",
              "        element.innerHTML = '';\n",
              "        dataTable['output_type'] = 'display_data';\n",
              "        await google.colab.output.renderOutput(dataTable, element);\n",
              "        const docLink = document.createElement('div');\n",
              "        docLink.innerHTML = docLinkHtml;\n",
              "        element.appendChild(docLink);\n",
              "      }\n",
              "    </script>\n",
              "  </div>\n",
              "\n",
              "\n",
              "<div id=\"df-69dddf33-b38d-418b-8c64-cb76815d65d6\">\n",
              "  <button class=\"colab-df-quickchart\" onclick=\"quickchart('df-69dddf33-b38d-418b-8c64-cb76815d65d6')\"\n",
              "            title=\"Suggest charts\"\n",
              "            style=\"display:none;\">\n",
              "\n",
              "<svg xmlns=\"http://www.w3.org/2000/svg\" height=\"24px\"viewBox=\"0 0 24 24\"\n",
              "     width=\"24px\">\n",
              "    <g>\n",
              "        <path d=\"M19 3H5c-1.1 0-2 .9-2 2v14c0 1.1.9 2 2 2h14c1.1 0 2-.9 2-2V5c0-1.1-.9-2-2-2zM9 17H7v-7h2v7zm4 0h-2V7h2v10zm4 0h-2v-4h2v4z\"/>\n",
              "    </g>\n",
              "</svg>\n",
              "  </button>\n",
              "\n",
              "<style>\n",
              "  .colab-df-quickchart {\n",
              "      --bg-color: #E8F0FE;\n",
              "      --fill-color: #1967D2;\n",
              "      --hover-bg-color: #E2EBFA;\n",
              "      --hover-fill-color: #174EA6;\n",
              "      --disabled-fill-color: #AAA;\n",
              "      --disabled-bg-color: #DDD;\n",
              "  }\n",
              "\n",
              "  [theme=dark] .colab-df-quickchart {\n",
              "      --bg-color: #3B4455;\n",
              "      --fill-color: #D2E3FC;\n",
              "      --hover-bg-color: #434B5C;\n",
              "      --hover-fill-color: #FFFFFF;\n",
              "      --disabled-bg-color: #3B4455;\n",
              "      --disabled-fill-color: #666;\n",
              "  }\n",
              "\n",
              "  .colab-df-quickchart {\n",
              "    background-color: var(--bg-color);\n",
              "    border: none;\n",
              "    border-radius: 50%;\n",
              "    cursor: pointer;\n",
              "    display: none;\n",
              "    fill: var(--fill-color);\n",
              "    height: 32px;\n",
              "    padding: 0;\n",
              "    width: 32px;\n",
              "  }\n",
              "\n",
              "  .colab-df-quickchart:hover {\n",
              "    background-color: var(--hover-bg-color);\n",
              "    box-shadow: 0 1px 2px rgba(60, 64, 67, 0.3), 0 1px 3px 1px rgba(60, 64, 67, 0.15);\n",
              "    fill: var(--button-hover-fill-color);\n",
              "  }\n",
              "\n",
              "  .colab-df-quickchart-complete:disabled,\n",
              "  .colab-df-quickchart-complete:disabled:hover {\n",
              "    background-color: var(--disabled-bg-color);\n",
              "    fill: var(--disabled-fill-color);\n",
              "    box-shadow: none;\n",
              "  }\n",
              "\n",
              "  .colab-df-spinner {\n",
              "    border: 2px solid var(--fill-color);\n",
              "    border-color: transparent;\n",
              "    border-bottom-color: var(--fill-color);\n",
              "    animation:\n",
              "      spin 1s steps(1) infinite;\n",
              "  }\n",
              "\n",
              "  @keyframes spin {\n",
              "    0% {\n",
              "      border-color: transparent;\n",
              "      border-bottom-color: var(--fill-color);\n",
              "      border-left-color: var(--fill-color);\n",
              "    }\n",
              "    20% {\n",
              "      border-color: transparent;\n",
              "      border-left-color: var(--fill-color);\n",
              "      border-top-color: var(--fill-color);\n",
              "    }\n",
              "    30% {\n",
              "      border-color: transparent;\n",
              "      border-left-color: var(--fill-color);\n",
              "      border-top-color: var(--fill-color);\n",
              "      border-right-color: var(--fill-color);\n",
              "    }\n",
              "    40% {\n",
              "      border-color: transparent;\n",
              "      border-right-color: var(--fill-color);\n",
              "      border-top-color: var(--fill-color);\n",
              "    }\n",
              "    60% {\n",
              "      border-color: transparent;\n",
              "      border-right-color: var(--fill-color);\n",
              "    }\n",
              "    80% {\n",
              "      border-color: transparent;\n",
              "      border-right-color: var(--fill-color);\n",
              "      border-bottom-color: var(--fill-color);\n",
              "    }\n",
              "    90% {\n",
              "      border-color: transparent;\n",
              "      border-bottom-color: var(--fill-color);\n",
              "    }\n",
              "  }\n",
              "</style>\n",
              "\n",
              "  <script>\n",
              "    async function quickchart(key) {\n",
              "      const quickchartButtonEl =\n",
              "        document.querySelector('#' + key + ' button');\n",
              "      quickchartButtonEl.disabled = true;  // To prevent multiple clicks.\n",
              "      quickchartButtonEl.classList.add('colab-df-spinner');\n",
              "      try {\n",
              "        const charts = await google.colab.kernel.invokeFunction(\n",
              "            'suggestCharts', [key], {});\n",
              "      } catch (error) {\n",
              "        console.error('Error during call to suggestCharts:', error);\n",
              "      }\n",
              "      quickchartButtonEl.classList.remove('colab-df-spinner');\n",
              "      quickchartButtonEl.classList.add('colab-df-quickchart-complete');\n",
              "    }\n",
              "    (() => {\n",
              "      let quickchartButtonEl =\n",
              "        document.querySelector('#df-69dddf33-b38d-418b-8c64-cb76815d65d6 button');\n",
              "      quickchartButtonEl.style.display =\n",
              "        google.colab.kernel.accessAllowed ? 'block' : 'none';\n",
              "    })();\n",
              "  </script>\n",
              "</div>\n",
              "    </div>\n",
              "  </div>\n"
            ],
            "application/vnd.google.colaboratory.intrinsic+json": {
              "type": "dataframe",
              "variable_name": "payment_crosstab",
              "summary": "{\n  \"name\": \"payment_crosstab\",\n  \"rows\": 2,\n  \"fields\": [\n    {\n      \"column\": \"grp\",\n      \"properties\": {\n        \"dtype\": \"string\",\n        \"num_unique_values\": 2,\n        \"samples\": [\n          \"B\",\n          \"A\"\n        ],\n        \"semantic_type\": \"\",\n        \"description\": \"\"\n      }\n    },\n    {\n      \"column\": 0,\n      \"properties\": {\n        \"dtype\": \"number\",\n        \"std\": 3556,\n        \"min\": 1460,\n        \"max\": 6489,\n        \"num_unique_values\": 2,\n        \"samples\": [\n          6489,\n          1460\n        ],\n        \"semantic_type\": \"\",\n        \"description\": \"\"\n      }\n    },\n    {\n      \"column\": 1,\n      \"properties\": {\n        \"dtype\": \"number\",\n        \"std\": 166,\n        \"min\": 78,\n        \"max\": 314,\n        \"num_unique_values\": 2,\n        \"samples\": [\n          314,\n          78\n        ],\n        \"semantic_type\": \"\",\n        \"description\": \"\"\n      }\n    }\n  ]\n}"
            }
          },
          "metadata": {},
          "execution_count": 120
        }
      ],
      "source": [
        "payment_crosstab"
      ]
    },
    {
      "cell_type": "code",
      "execution_count": 121,
      "id": "15f6ad30",
      "metadata": {
        "colab": {
          "base_uri": "https://localhost:8080/"
        },
        "id": "15f6ad30",
        "outputId": "4766085c-e4cf-41c2-a911-80c5cb7a2eff"
      },
      "outputs": [
        {
          "output_type": "execute_result",
          "data": {
            "text/plain": [
              "0.49"
            ]
          },
          "metadata": {},
          "execution_count": 121
        }
      ],
      "source": [
        "CR_to_payment_stat = scipy. stats.chi2_contingency(payment_crosstab)\n",
        "CR_to_payment_pvalue = round(CR_to_payment_stat.pvalue, 2)\n",
        "CR_to_payment_pvalue"
      ]
    },
    {
      "cell_type": "markdown",
      "id": "5ad2bedb",
      "metadata": {
        "id": "5ad2bedb"
      },
      "source": [
        "pvalue = 0.49 > 0.05 --> **нет оснований говорить о статистичексой значимости различий конверсии в двух группах.**"
      ]
    },
    {
      "cell_type": "markdown",
      "id": "00800661",
      "metadata": {
        "id": "00800661"
      },
      "source": [
        "#### ARPPU"
      ]
    },
    {
      "cell_type": "code",
      "execution_count": 122,
      "id": "f48d5f2d",
      "metadata": {
        "id": "f48d5f2d"
      },
      "outputs": [],
      "source": [
        "active_studs_buyers = active_studs_extended.query('rev != 0')  # отбор покупателей"
      ]
    },
    {
      "cell_type": "code",
      "execution_count": 123,
      "id": "379533b8",
      "metadata": {
        "colab": {
          "base_uri": "https://localhost:8080/"
        },
        "id": "379533b8",
        "outputId": "4cb2e0bb-9828-45db-f024-0dec054f8faf"
      },
      "outputs": [
        {
          "output_type": "execute_result",
          "data": {
            "text/plain": [
              "grp\n",
              "B    314\n",
              "A     78\n",
              "Name: count, dtype: int64"
            ]
          },
          "metadata": {},
          "execution_count": 123
        }
      ],
      "source": [
        "active_studs_buyers.grp.value_counts()  # размеры выборок покупателей."
      ]
    },
    {
      "cell_type": "code",
      "execution_count": 124,
      "id": "09e97281",
      "metadata": {
        "id": "09e97281"
      },
      "outputs": [],
      "source": [
        "group_A_buyers = group_A.query('rev != 0')"
      ]
    },
    {
      "cell_type": "code",
      "execution_count": 125,
      "id": "76d60913",
      "metadata": {
        "id": "76d60913"
      },
      "outputs": [],
      "source": [
        "group_B_buyers = group_B.query('rev != 0')"
      ]
    },
    {
      "cell_type": "code",
      "execution_count": 126,
      "id": "ec0f6d4a",
      "metadata": {
        "colab": {
          "base_uri": "https://localhost:8080/"
        },
        "id": "ec0f6d4a",
        "outputId": "619dae5f-2b51-41e6-d404-83eccc870a8c"
      },
      "outputs": [
        {
          "output_type": "execute_result",
          "data": {
            "text/plain": [
              "933.6"
            ]
          },
          "metadata": {},
          "execution_count": 126
        }
      ],
      "source": [
        "ARPPU_A = round(group_A_buyers.rev.sum() / group_A_buyers.student_id.count(), 1)  # ARPPU в контрольной группе\n",
        "ARPPU_A"
      ]
    },
    {
      "cell_type": "code",
      "execution_count": 127,
      "id": "8ebb2105",
      "metadata": {
        "colab": {
          "base_uri": "https://localhost:8080/"
        },
        "id": "8ebb2105",
        "outputId": "1ffcd73e-41c1-4a4f-e2a1-47bc3a3eca0d"
      },
      "outputs": [
        {
          "output_type": "execute_result",
          "data": {
            "text/plain": [
              "1257.9"
            ]
          },
          "metadata": {},
          "execution_count": 127
        }
      ],
      "source": [
        "ARPPU_B = round(group_B_buyers.rev.sum() / group_B_buyers.student_id.count(), 1)  # ARPPU в целевой группе\n",
        "ARPPU_B"
      ]
    },
    {
      "cell_type": "markdown",
      "id": "49f9cc1c",
      "metadata": {
        "id": "49f9cc1c"
      },
      "source": [
        "ARPPU в целевой группе (1257.9) выше чем ARPPU в контрольной группе (933.6).\n",
        "\n",
        "Различия в значениях есть, проверяется статистическая значимость."
      ]
    },
    {
      "cell_type": "code",
      "execution_count": 128,
      "id": "6138d34b",
      "metadata": {
        "colab": {
          "base_uri": "https://localhost:8080/",
          "height": 523
        },
        "id": "6138d34b",
        "outputId": "49e5fad3-bc9e-46a0-9cb4-5643c281523b"
      },
      "outputs": [
        {
          "output_type": "execute_result",
          "data": {
            "text/plain": [
              "<seaborn.axisgrid.FacetGrid at 0x7dd86185aa40>"
            ]
          },
          "metadata": {},
          "execution_count": 128
        },
        {
          "output_type": "display_data",
          "data": {
            "text/plain": [
              "<Figure size 559.625x500 with 1 Axes>"
            ],
            "image/png": "[encoded data removed]"
          },
          "metadata": {}
        }
      ],
      "source": [
        "sns.displot(data=active_studs_buyers, x='rev', hue='grp')  # распределение суммы чека в группах"
      ]
    },
    {
      "cell_type": "markdown",
      "id": "c25e635e",
      "metadata": {
        "id": "c25e635e"
      },
      "source": [
        "Форма распределения значений в группах не только не близка к нормальному распределению, но и различна в двух группах за счет пика значений в примерно 2000 в целевой группе."
      ]
    },
    {
      "cell_type": "code",
      "execution_count": 129,
      "id": "e38c3aa6",
      "metadata": {
        "colab": {
          "base_uri": "https://localhost:8080/",
          "height": 489
        },
        "id": "e38c3aa6",
        "outputId": "9bdadbac-1064-4253-c39f-3b15c078e15b"
      },
      "outputs": [
        {
          "output_type": "execute_result",
          "data": {
            "text/plain": [
              "Text(0, 0.5, 'Группа')"
            ]
          },
          "metadata": {},
          "execution_count": 129
        },
        {
          "output_type": "display_data",
          "data": {
            "text/plain": [
              "<Figure size 640x480 with 1 Axes>"
            ],
            "image/png": "[encoded data removed]"
          },
          "metadata": {}
        }
      ],
      "source": [
        "sns.boxplot(x='rev', y='grp', data=active_studs_buyers)\n",
        "plt.title('Доход с пользователя в каждой группе')\n",
        "plt.xlabel('Доход')\n",
        "plt.ylabel('Группа')"
      ]
    },
    {
      "cell_type": "markdown",
      "id": "cd9cd314",
      "metadata": {
        "id": "cd9cd314"
      },
      "source": [
        "В целевой группе наблюдается увеличение межквартильного размаха и смещение медианы  вправо относительно контрольной группы. В контрольной группе наблюдается большое количество выбросов."
      ]
    },
    {
      "cell_type": "markdown",
      "id": "41401dc2",
      "metadata": {
        "id": "41401dc2"
      },
      "source": [
        "Выбросы и ненормальное распределение не позволяют опираться на t-критерий, непараметрический тест не сравнивает средние значения в выборках. Таким образом наиболее надежной для данных выборок является методика бутстрап.\n",
        "\n",
        "Далее с помощью бутстрапа проверяется разница между средними значениями в группах.\n",
        "\n",
        "H0 - Новый механизм оплаты не влияет на средний доход с платящего пользователя.\n",
        "\n",
        "Н1 - Новый механизм оплаты влияет на средний доход с платящего пользователя."
      ]
    },
    {
      "cell_type": "code",
      "execution_count": 130,
      "id": "b7dab54a",
      "metadata": {
        "id": "b7dab54a"
      },
      "outputs": [],
      "source": [
        "ARPPU_bootstrap = scipy.stats.bootstrap([group_A_buyers.rev,\n",
        "                                        group_B_buyers.rev],\n",
        "                                        statistic=lambda x, y: np.mean(y) - np.mean(x))"
      ]
    },
    {
      "cell_type": "code",
      "execution_count": 131,
      "id": "5619b962",
      "metadata": {
        "colab": {
          "base_uri": "https://localhost:8080/"
        },
        "id": "5619b962",
        "outputId": "cd835d74-22a0-425b-ae65-87048db23538"
      },
      "outputs": [
        {
          "output_type": "execute_result",
          "data": {
            "text/plain": [
              "BootstrapResult(confidence_interval=ConfidenceInterval(low=82.01530481229257, high=520.3033459317999), bootstrap_distribution=array([338.8624152 , 284.44121516, 372.76989615, ..., 281.99935787,\n",
              "       428.44995239, 188.83783542]), standard_error=112.01532645840815)"
            ]
          },
          "metadata": {},
          "execution_count": 131
        }
      ],
      "source": [
        "ARPPU_bootstrap"
      ]
    },
    {
      "cell_type": "code",
      "execution_count": 132,
      "id": "fb333445",
      "metadata": {
        "colab": {
          "base_uri": "https://localhost:8080/",
          "height": 447
        },
        "id": "fb333445",
        "outputId": "bfa93d95-d4bc-4a2e-a281-1e41d867a64f"
      },
      "outputs": [
        {
          "output_type": "execute_result",
          "data": {
            "text/plain": [
              "<Axes: ylabel='Count'>"
            ]
          },
          "metadata": {},
          "execution_count": 132
        },
        {
          "output_type": "display_data",
          "data": {
            "text/plain": [
              "<Figure size 640x480 with 1 Axes>"
            ],
            "image/png": "[encoded data removed]"
          },
          "metadata": {}
        }
      ],
      "source": [
        "sns.histplot(data=ARPPU_bootstrap.bootstrap_distribution)"
      ]
    },
    {
      "cell_type": "code",
      "execution_count": 133,
      "id": "75d3055f",
      "metadata": {
        "colab": {
          "base_uri": "https://localhost:8080/"
        },
        "id": "75d3055f",
        "outputId": "319e6df2-7833-4ff2-8147-d3b16fd72b1f"
      },
      "outputs": [
        {
          "output_type": "execute_result",
          "data": {
            "text/plain": [
              "[82.02, 520.3]"
            ]
          },
          "metadata": {},
          "execution_count": 133
        }
      ],
      "source": [
        "ARPPU_CI = [round(ARPPU_bootstrap.confidence_interval.low, 2), round(ARPPU_bootstrap.confidence_interval.high, 2)]\n",
        "ARPPU_CI # доверительный интервал"
      ]
    },
    {
      "cell_type": "markdown",
      "id": "17012f95",
      "metadata": {
        "id": "17012f95"
      },
      "source": [
        "0 не попадает в доверительный интервал, следовательно **ARPPU в двух группах статистически значимо различаются**."
      ]
    },
    {
      "cell_type": "markdown",
      "id": "fc10c86e",
      "metadata": {
        "id": "fc10c86e"
      },
      "source": [
        "#### ARPAU"
      ]
    },
    {
      "cell_type": "code",
      "execution_count": 134,
      "id": "dd48cc8d",
      "metadata": {
        "colab": {
          "base_uri": "https://localhost:8080/"
        },
        "id": "dd48cc8d",
        "outputId": "76029065-53f1-4381-a97e-6865df5a148d"
      },
      "outputs": [
        {
          "output_type": "execute_result",
          "data": {
            "text/plain": [
              "47.3"
            ]
          },
          "metadata": {},
          "execution_count": 134
        }
      ],
      "source": [
        "ARPAU_A = round(group_A.rev.sum() / group_A.student_id.count(), 1)  # ARPAU в контрольной группе\n",
        "ARPAU_A"
      ]
    },
    {
      "cell_type": "code",
      "execution_count": 135,
      "id": "b8692fee",
      "metadata": {
        "colab": {
          "base_uri": "https://localhost:8080/"
        },
        "id": "b8692fee",
        "outputId": "c1872921-86f7-47b8-f782-5e109f40be38"
      },
      "outputs": [
        {
          "output_type": "execute_result",
          "data": {
            "text/plain": [
              "58.1"
            ]
          },
          "metadata": {},
          "execution_count": 135
        }
      ],
      "source": [
        "ARPAU_B = round(group_B.rev.sum() / group_B.student_id.count(), 1)  # ARPAU в целевой группе\n",
        "ARPAU_B"
      ]
    },
    {
      "cell_type": "markdown",
      "id": "1c349764",
      "metadata": {
        "id": "1c349764"
      },
      "source": [
        "ARPAU в целевой группе (58.1) выше чем ARPAU в контрольной группе (47.3).\n",
        "\n",
        "Различия в значениях есть, проверяется статистическая значимость."
      ]
    },
    {
      "cell_type": "code",
      "execution_count": 136,
      "id": "2ecf55f5",
      "metadata": {
        "colab": {
          "base_uri": "https://localhost:8080/",
          "height": 523
        },
        "id": "2ecf55f5",
        "outputId": "d107d27f-8dc0-4141-dc43-ba2f929e0e09"
      },
      "outputs": [
        {
          "output_type": "execute_result",
          "data": {
            "text/plain": [
              "<seaborn.axisgrid.FacetGrid at 0x7dd861870eb0>"
            ]
          },
          "metadata": {},
          "execution_count": 136
        },
        {
          "output_type": "display_data",
          "data": {
            "text/plain": [
              "<Figure size 559.625x500 with 1 Axes>"
            ],
            "image/png": "[encoded data removed]"
          },
          "metadata": {}
        }
      ],
      "source": [
        "sns.displot(data=active_studs_extended, x='rev', hue='grp')  # распределение суммы чека в группах"
      ]
    },
    {
      "cell_type": "markdown",
      "id": "cf54bc47",
      "metadata": {
        "id": "cf54bc47"
      },
      "source": [
        "Форма распределения значений в группах не близка к форме нормального распределения.\n",
        "Число наблюдений в наименьшей из сравниваемых выборок достаточно для проведения t-теста, но из-за большого количества выбросов есть риск получить некорректный результат.\n",
        "Непараметрический тест не сравнивает средние значения в выборках. Таким образом наиболее надежной для данных выборок является методика бутстрап.\n",
        "\n",
        "Далее с помощью бутстрапа проверяется разница между средними значениями в группах.\n",
        "\n",
        "H0 - Новый механизм оплаты не влияет на средний доход с активного пользователя.\n",
        "\n",
        "Н1 - Новый механизм оплаты влияет на средний доход с активного пользователя."
      ]
    },
    {
      "cell_type": "code",
      "execution_count": 137,
      "id": "ff87c866",
      "metadata": {
        "id": "ff87c866"
      },
      "outputs": [],
      "source": [
        "ARPAU_bootstrap = scipy.stats.bootstrap([group_A.rev,\n",
        "                                        group_B.rev],\n",
        "                                        statistic=lambda x, y: np.mean(y) - np.mean(x))"
      ]
    },
    {
      "cell_type": "code",
      "execution_count": 138,
      "id": "1eaf95eb",
      "metadata": {
        "colab": {
          "base_uri": "https://localhost:8080/"
        },
        "id": "1eaf95eb",
        "outputId": "d82b0b76-a2c4-4a6f-ca81-55af727db111"
      },
      "outputs": [
        {
          "output_type": "execute_result",
          "data": {
            "text/plain": [
              "BootstrapResult(confidence_interval=ConfidenceInterval(low=-7.962627826731822, high=25.126231156101365), bootstrap_distribution=array([ 5.64695388, 12.63268143, 11.90002507, ...,  6.37809312,\n",
              "       19.84630896, 25.45821531]), standard_error=8.343342698559164)"
            ]
          },
          "metadata": {},
          "execution_count": 138
        }
      ],
      "source": [
        "ARPAU_bootstrap"
      ]
    },
    {
      "cell_type": "code",
      "execution_count": 139,
      "id": "9872980f",
      "metadata": {
        "colab": {
          "base_uri": "https://localhost:8080/",
          "height": 447
        },
        "id": "9872980f",
        "outputId": "2550fdb8-8dd4-4f24-a3a2-14c37c448201"
      },
      "outputs": [
        {
          "output_type": "execute_result",
          "data": {
            "text/plain": [
              "<Axes: ylabel='Count'>"
            ]
          },
          "metadata": {},
          "execution_count": 139
        },
        {
          "output_type": "display_data",
          "data": {
            "text/plain": [
              "<Figure size 640x480 with 1 Axes>"
            ],
            "image/png": "[encoded data removed]"
          },
          "metadata": {}
        }
      ],
      "source": [
        "sns.histplot(data=ARPAU_bootstrap.bootstrap_distribution)"
      ]
    },
    {
      "cell_type": "code",
      "execution_count": 140,
      "id": "ad236234",
      "metadata": {
        "colab": {
          "base_uri": "https://localhost:8080/"
        },
        "id": "ad236234",
        "outputId": "39440025-04a9-47eb-b467-666a17c53f04"
      },
      "outputs": [
        {
          "output_type": "execute_result",
          "data": {
            "text/plain": [
              "[-7.96, 25.13]"
            ]
          },
          "metadata": {},
          "execution_count": 140
        }
      ],
      "source": [
        "ARPAU_CI = [round(ARPAU_bootstrap.confidence_interval.low, 2), round(ARPAU_bootstrap.confidence_interval.high, 2)]\n",
        "ARPAU_CI # доверительный интервал"
      ]
    },
    {
      "cell_type": "markdown",
      "id": "73824cfe",
      "metadata": {
        "id": "73824cfe"
      },
      "source": [
        "В результате получен доверительный интервал: [-7.13, 25.81]\n",
        "\n",
        "0 попадает в доверительный интервал. **ARPAU в двух группах статистически значимо не различаются**."
      ]
    },
    {
      "cell_type": "markdown",
      "id": "811d5421",
      "metadata": {
        "id": "811d5421"
      },
      "source": [
        "## Вывод"
      ]
    },
    {
      "cell_type": "code",
      "execution_count": 141,
      "id": "b2ae3ea7",
      "metadata": {
        "colab": {
          "base_uri": "https://localhost:8080/",
          "height": 81
        },
        "id": "b2ae3ea7",
        "outputId": "e02cd9fe-d0a4-42cf-bd1f-dcb414b584a1"
      },
      "outputs": [
        {
          "output_type": "execute_result",
          "data": {
            "text/plain": [
              "   Version  CR_A  CR_B  CR_pvalue  ARPPU_A  ARPPU_B        ARPPU_CI  ARPAU_A  \\\n",
              "0  task_01  5.07  4.62       0.49    933.6   1257.9  [82.02, 520.3]     47.3   \n",
              "\n",
              "   ARPAU_B        ARPAU_CI  \n",
              "0     58.1  [-7.96, 25.13]  "
            ],
            "text/html": [
              "\n",
              "  <div id=\"df-465b5473-6b62-47c3-ad8c-cdc5bf27e023\" class=\"colab-df-container\">\n",
              "    <div>\n",
              "<style scoped>\n",
              "    .dataframe tbody tr th:only-of-type {\n",
              "        vertical-align: middle;\n",
              "    }\n",
              "\n",
              "    .dataframe tbody tr th {\n",
              "        vertical-align: top;\n",
              "    }\n",
              "\n",
              "    .dataframe thead th {\n",
              "        text-align: right;\n",
              "    }\n",
              "</style>\n",
              "<table border=\"1\" class=\"dataframe\">\n",
              "  <thead>\n",
              "    <tr style=\"text-align: right;\">\n",
              "      <th></th>\n",
              "      <th>Version</th>\n",
              "      <th>CR_A</th>\n",
              "      <th>CR_B</th>\n",
              "      <th>CR_pvalue</th>\n",
              "      <th>ARPPU_A</th>\n",
              "      <th>ARPPU_B</th>\n",
              "      <th>ARPPU_CI</th>\n",
              "      <th>ARPAU_A</th>\n",
              "      <th>ARPAU_B</th>\n",
              "      <th>ARPAU_CI</th>\n",
              "    </tr>\n",
              "  </thead>\n",
              "  <tbody>\n",
              "    <tr>\n",
              "      <th>0</th>\n",
              "      <td>task_01</td>\n",
              "      <td>5.07</td>\n",
              "      <td>4.62</td>\n",
              "      <td>0.49</td>\n",
              "      <td>933.6</td>\n",
              "      <td>1257.9</td>\n",
              "      <td>[82.02, 520.3]</td>\n",
              "      <td>47.3</td>\n",
              "      <td>58.1</td>\n",
              "      <td>[-7.96, 25.13]</td>\n",
              "    </tr>\n",
              "  </tbody>\n",
              "</table>\n",
              "</div>\n",
              "    <div class=\"colab-df-buttons\">\n",
              "\n",
              "  <div class=\"colab-df-container\">\n",
              "    <button class=\"colab-df-convert\" onclick=\"convertToInteractive('df-465b5473-6b62-47c3-ad8c-cdc5bf27e023')\"\n",
              "            title=\"Convert this dataframe to an interactive table.\"\n",
              "            style=\"display:none;\">\n",
              "\n",
              "  <svg xmlns=\"http://www.w3.org/2000/svg\" height=\"24px\" viewBox=\"0 -960 960 960\">\n",
              "    <path d=\"M120-120v-720h720v720H120Zm60-500h600v-160H180v160Zm220 220h160v-160H400v160Zm0 220h160v-160H400v160ZM180-400h160v-160H180v160Zm440 0h160v-160H620v160ZM180-180h160v-160H180v160Zm440 0h160v-160H620v160Z\"/>\n",
              "  </svg>\n",
              "    </button>\n",
              "\n",
              "  <style>\n",
              "    .colab-df-container {\n",
              "      display:flex;\n",
              "      gap: 12px;\n",
              "    }\n",
              "\n",
              "    .colab-df-convert {\n",
              "      background-color: #E8F0FE;\n",
              "      border: none;\n",
              "      border-radius: 50%;\n",
              "      cursor: pointer;\n",
              "      display: none;\n",
              "      fill: #1967D2;\n",
              "      height: 32px;\n",
              "      padding: 0 0 0 0;\n",
              "      width: 32px;\n",
              "    }\n",
              "\n",
              "    .colab-df-convert:hover {\n",
              "      background-color: #E2EBFA;\n",
              "      box-shadow: 0px 1px 2px rgba(60, 64, 67, 0.3), 0px 1px 3px 1px rgba(60, 64, 67, 0.15);\n",
              "      fill: #174EA6;\n",
              "    }\n",
              "\n",
              "    .colab-df-buttons div {\n",
              "      margin-bottom: 4px;\n",
              "    }\n",
              "\n",
              "    [theme=dark] .colab-df-convert {\n",
              "      background-color: #3B4455;\n",
              "      fill: #D2E3FC;\n",
              "    }\n",
              "\n",
              "    [theme=dark] .colab-df-convert:hover {\n",
              "      background-color: #434B5C;\n",
              "      box-shadow: 0px 1px 3px 1px rgba(0, 0, 0, 0.15);\n",
              "      filter: drop-shadow(0px 1px 2px rgba(0, 0, 0, 0.3));\n",
              "      fill: #FFFFFF;\n",
              "    }\n",
              "  </style>\n",
              "\n",
              "    <script>\n",
              "      const buttonEl =\n",
              "        document.querySelector('#df-465b5473-6b62-47c3-ad8c-cdc5bf27e023 button.colab-df-convert');\n",
              "      buttonEl.style.display =\n",
              "        google.colab.kernel.accessAllowed ? 'block' : 'none';\n",
              "\n",
              "      async function convertToInteractive(key) {\n",
              "        const element = document.querySelector('#df-465b5473-6b62-47c3-ad8c-cdc5bf27e023');\n",
              "        const dataTable =\n",
              "          await google.colab.kernel.invokeFunction('convertToInteractive',\n",
              "                                                    [key], {});\n",
              "        if (!dataTable) return;\n",
              "\n",
              "        const docLinkHtml = 'Like what you see? Visit the ' +\n",
              "          '<a target=\"_blank\" href=https://colab.research.google.com/notebooks/data_table.ipynb>data table notebook</a>'\n",
              "          + ' to learn more about interactive tables.';\n",
              "        element.innerHTML = '';\n",
              "        dataTable['output_type'] = 'display_data';\n",
              "        await google.colab.output.renderOutput(dataTable, element);\n",
              "        const docLink = document.createElement('div');\n",
              "        docLink.innerHTML = docLinkHtml;\n",
              "        element.appendChild(docLink);\n",
              "      }\n",
              "    </script>\n",
              "  </div>\n",
              "\n",
              "    </div>\n",
              "  </div>\n"
            ],
            "application/vnd.google.colaboratory.intrinsic+json": {
              "type": "dataframe",
              "variable_name": "metrics_task_01",
              "summary": "{\n  \"name\": \"metrics_task_01\",\n  \"rows\": 1,\n  \"fields\": [\n    {\n      \"column\": \"Version\",\n      \"properties\": {\n        \"dtype\": \"string\",\n        \"num_unique_values\": 1,\n        \"samples\": [\n          \"task_01\"\n        ],\n        \"semantic_type\": \"\",\n        \"description\": \"\"\n      }\n    },\n    {\n      \"column\": \"CR_A\",\n      \"properties\": {\n        \"dtype\": \"number\",\n        \"std\": null,\n        \"min\": 5.07,\n        \"max\": 5.07,\n        \"num_unique_values\": 1,\n        \"samples\": [\n          5.07\n        ],\n        \"semantic_type\": \"\",\n        \"description\": \"\"\n      }\n    },\n    {\n      \"column\": \"CR_B\",\n      \"properties\": {\n        \"dtype\": \"number\",\n        \"std\": null,\n        \"min\": 4.62,\n        \"max\": 4.62,\n        \"num_unique_values\": 1,\n        \"samples\": [\n          4.62\n        ],\n        \"semantic_type\": \"\",\n        \"description\": \"\"\n      }\n    },\n    {\n      \"column\": \"CR_pvalue\",\n      \"properties\": {\n        \"dtype\": \"number\",\n        \"std\": null,\n        \"min\": 0.49,\n        \"max\": 0.49,\n        \"num_unique_values\": 1,\n        \"samples\": [\n          0.49\n        ],\n        \"semantic_type\": \"\",\n        \"description\": \"\"\n      }\n    },\n    {\n      \"column\": \"ARPPU_A\",\n      \"properties\": {\n        \"dtype\": \"number\",\n        \"std\": null,\n        \"min\": 933.6,\n        \"max\": 933.6,\n        \"num_unique_values\": 1,\n        \"samples\": [\n          933.6\n        ],\n        \"semantic_type\": \"\",\n        \"description\": \"\"\n      }\n    },\n    {\n      \"column\": \"ARPPU_B\",\n      \"properties\": {\n        \"dtype\": \"number\",\n        \"std\": null,\n        \"min\": 1257.9,\n        \"max\": 1257.9,\n        \"num_unique_values\": 1,\n        \"samples\": [\n          1257.9\n        ],\n        \"semantic_type\": \"\",\n        \"description\": \"\"\n      }\n    },\n    {\n      \"column\": \"ARPPU_CI\",\n      \"properties\": {\n        \"dtype\": \"object\",\n        \"semantic_type\": \"\",\n        \"description\": \"\"\n      }\n    },\n    {\n      \"column\": \"ARPAU_A\",\n      \"properties\": {\n        \"dtype\": \"number\",\n        \"std\": null,\n        \"min\": 47.3,\n        \"max\": 47.3,\n        \"num_unique_values\": 1,\n        \"samples\": [\n          47.3\n        ],\n        \"semantic_type\": \"\",\n        \"description\": \"\"\n      }\n    },\n    {\n      \"column\": \"ARPAU_B\",\n      \"properties\": {\n        \"dtype\": \"number\",\n        \"std\": null,\n        \"min\": 58.1,\n        \"max\": 58.1,\n        \"num_unique_values\": 1,\n        \"samples\": [\n          58.1\n        ],\n        \"semantic_type\": \"\",\n        \"description\": \"\"\n      }\n    },\n    {\n      \"column\": \"ARPAU_CI\",\n      \"properties\": {\n        \"dtype\": \"object\",\n        \"semantic_type\": \"\",\n        \"description\": \"\"\n      }\n    }\n  ]\n}"
            }
          },
          "metadata": {},
          "execution_count": 141
        }
      ],
      "source": [
        "metrics_task_01 = pd.DataFrame(data={'Version': ['task_01'],\n",
        "                                     'CR_A': [CR_to_payment_A],\n",
        "                                     'CR_B': [CR_to_payment_B],\n",
        "                                     'CR_pvalue': [CR_to_payment_pvalue],\n",
        "                                     'ARPPU_A': [ARPPU_A],\n",
        "                                     'ARPPU_B': [ARPPU_B],\n",
        "                                     'ARPPU_CI': [ARPPU_CI],\n",
        "                                     'ARPAU_A': [ARPAU_A],\n",
        "                                     'ARPAU_B': [ARPAU_B],\n",
        "                                     'ARPAU_CI': [ARPAU_CI]})\n",
        "metrics_task_01"
      ]
    },
    {
      "cell_type": "markdown",
      "id": "660e4de9",
      "metadata": {
        "id": "660e4de9"
      },
      "source": [
        "Новая механика оплаты позволит увеличить средний доход на платящего пользователя (ARPPU), но при этом не простимулирует пользователей к покупке (увеличение конверсии в покупку и среднего дохода на активного пользователя не подтверждено)\n"
      ]
    }
  ],
  "metadata": {
    "colab": {
      "collapsed_sections": [
        "TVVLNlnJPGPY"
      ],
      "provenance": [],
      "include_colab_link": true
    },
    "kernelspec": {
      "display_name": "Python 3",
      "language": "python",
      "name": "python3"
    },
    "language_info": {
      "codemirror_mode": {
        "name": "ipython",
        "version": 3
      },
      "file_extension": ".py",
      "mimetype": "text/x-python",
      "name": "python",
      "nbconvert_exporter": "python",
      "pygments_lexer": "ipython3",
      "version": "3.7.3"
    }
  },
  "nbformat": 4,
  "nbformat_minor": 5
}